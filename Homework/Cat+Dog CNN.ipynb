{
 "cells": [
  {
   "cell_type": "code",
   "execution_count": 1,
   "metadata": {
    "ExecuteTime": {
     "end_time": "2023-04-09T14:43:55.215940Z",
     "start_time": "2023-04-09T14:43:52.736576Z"
    }
   },
   "outputs": [],
   "source": [
    "import torch\n",
    "import torchvision\n",
    "import torch.nn as nn\n",
    "import torch.optim as optim\n",
    "import torch.nn.functional as F\n",
    "from torchvision import transforms\n",
    "from torchvision import datasets\n",
    "from torch.utils.data.dataloader import DataLoader"
   ]
  },
  {
   "cell_type": "markdown",
   "metadata": {},
   "source": [
    "#### 数据集路径查看"
   ]
  },
  {
   "cell_type": "code",
   "execution_count": 2,
   "metadata": {
    "ExecuteTime": {
     "end_time": "2023-04-09T14:43:55.262832Z",
     "start_time": "2023-04-09T14:43:55.215940Z"
    }
   },
   "outputs": [
    {
     "data": {
      "text/plain": [
       "['.ipynb_checkpoints', 'data_small', 'FashionMNIST', 'FasionMNIST']"
      ]
     },
     "execution_count": 2,
     "metadata": {},
     "output_type": "execute_result"
    }
   ],
   "source": [
    "import os\n",
    "base_dir='./data'\n",
    "os.listdir(base_dir)"
   ]
  },
  {
   "cell_type": "code",
   "execution_count": 3,
   "metadata": {
    "ExecuteTime": {
     "end_time": "2023-04-09T14:43:55.278456Z",
     "start_time": "2023-04-09T14:43:55.262832Z"
    }
   },
   "outputs": [
    {
     "data": {
      "text/plain": [
       "(WindowsPath('data/data_small/training_set'),\n",
       " WindowsPath('data/data_small/test_set'))"
      ]
     },
     "execution_count": 3,
     "metadata": {},
     "output_type": "execute_result"
    }
   ],
   "source": [
    "from pathlib import Path\n",
    "data_path=Path('./data/data_small')\n",
    "train_path=data_path/\"training_set\"\n",
    "test_path=data_path/\"test_set\"\n",
    "train_path,test_path"
   ]
  },
  {
   "cell_type": "markdown",
   "metadata": {},
   "source": [
    "#### 数据集样本查看"
   ]
  },
  {
   "cell_type": "code",
   "execution_count": 4,
   "metadata": {
    "ExecuteTime": {
     "end_time": "2023-04-09T14:43:55.340948Z",
     "start_time": "2023-04-09T14:43:55.278456Z"
    }
   },
   "outputs": [],
   "source": [
    "train_list=list(train_path.glob(\"*/*.jpg\"))#获得所有样本路径\n",
    "test_list=list(test_path.glob(\"*/*.jpg\"))"
   ]
  },
  {
   "cell_type": "code",
   "execution_count": 5,
   "metadata": {
    "ExecuteTime": {
     "end_time": "2023-04-09T14:43:55.356553Z",
     "start_time": "2023-04-09T14:43:55.340948Z"
    }
   },
   "outputs": [
    {
     "name": "stdout",
     "output_type": "stream",
     "text": [
      "2000\n",
      "500\n"
     ]
    }
   ],
   "source": [
    "print(len(train_list))\n",
    "print(len(test_list))"
   ]
  },
  {
   "cell_type": "code",
   "execution_count": 6,
   "metadata": {
    "ExecuteTime": {
     "end_time": "2023-04-09T14:43:55.796523Z",
     "start_time": "2023-04-09T14:43:55.356553Z"
    }
   },
   "outputs": [
    {
     "data": {
      "text/plain": [
       "<Figure size 1500x500 with 10 Axes>"
      ]
     },
     "metadata": {},
     "output_type": "display_data"
    }
   ],
   "source": [
    "from PIL import Image\n",
    "import numpy as np\n",
    "import matplotlib.pyplot as plt\n",
    "\n",
    "random_idx=np.random.randint(1,2000,size=10)\n",
    "\n",
    "fig=plt.figure(figsize=(15,5))\n",
    "i=1\n",
    "for idx in random_idx:\n",
    "    ax=fig.add_subplot(2,5,i)\n",
    "    img=Image.open(train_list[idx])\n",
    "    plt.imshow(img)\n",
    "    i+=1\n",
    "    \n",
    "plt.axis('off')\n",
    "plt.show()"
   ]
  },
  {
   "cell_type": "markdown",
   "metadata": {},
   "source": [
    "####  数据集构建"
   ]
  },
  {
   "cell_type": "code",
   "execution_count": 7,
   "metadata": {
    "ExecuteTime": {
     "end_time": "2023-04-09T14:43:55.812569Z",
     "start_time": "2023-04-09T14:43:55.796523Z"
    }
   },
   "outputs": [],
   "source": [
    "data_transform=transforms.Compose([\n",
    "        transforms.ToTensor(),# 将数据转为Tensor类型\n",
    "        transforms.Normalize([0.485,0.456,0.406], [0.229,0.224,0.225]),\n",
    "        transforms.Resize((224, 224)), #图片统一缩放到244*244\n",
    "])"
   ]
  },
  {
   "cell_type": "code",
   "execution_count": 8,
   "metadata": {
    "ExecuteTime": {
     "end_time": "2023-04-09T14:43:55.844513Z",
     "start_time": "2023-04-09T14:43:55.812569Z"
    }
   },
   "outputs": [],
   "source": [
    "train_data = datasets.ImageFolder(\n",
    "    root=train_path,\n",
    "    transform=data_transform,\n",
    "    target_transform=None\n",
    ")\n",
    "test_data = datasets.ImageFolder(\n",
    "    root=test_path,\n",
    "    transform=data_transform\n",
    ")"
   ]
  },
  {
   "cell_type": "markdown",
   "metadata": {},
   "source": [
    "#### 数据集加载"
   ]
  },
  {
   "cell_type": "code",
   "execution_count": 9,
   "metadata": {
    "ExecuteTime": {
     "end_time": "2023-04-09T14:43:55.860513Z",
     "start_time": "2023-04-09T14:43:55.844513Z"
    }
   },
   "outputs": [],
   "source": [
    "batch_size=32\n",
    "train_loader=DataLoader(train_data,shuffle=True, batch_size=batch_size)\n",
    "test_loader=DataLoader(test_data,shuffle=True, batch_size=batch_size)"
   ]
  },
  {
   "cell_type": "markdown",
   "metadata": {},
   "source": [
    "#### 自定义卷积神经网络"
   ]
  },
  {
   "cell_type": "code",
   "execution_count": 10,
   "metadata": {
    "ExecuteTime": {
     "end_time": "2023-04-09T14:43:55.876551Z",
     "start_time": "2023-04-09T14:43:55.864539Z"
    }
   },
   "outputs": [],
   "source": [
    "class My_CNN(nn.Module):\n",
    "    def __init__(self):\n",
    "        super(My_CNN,self).__init__()\n",
    "        self.layer1 = nn.Sequential(\n",
    "            nn.Conv2d(3,16,kernel_size=3, padding=0,stride=2),\n",
    "            nn.BatchNorm2d(16),\n",
    "            nn.ReLU(),\n",
    "            nn.MaxPool2d(2)\n",
    "            )\n",
    "        self.layer2 = nn.Sequential(\n",
    "            nn.Conv2d(16,32, kernel_size=3, padding=0, stride=2),\n",
    "            nn.BatchNorm2d(32),\n",
    "            nn.ReLU(),\n",
    "            nn.MaxPool2d(2)\n",
    "            )\n",
    "        self.layer3 = nn.Sequential(\n",
    "            nn.Conv2d(32,64, kernel_size=3, padding=0, stride=2),\n",
    "            nn.BatchNorm2d(64),\n",
    "            nn.ReLU(),\n",
    "            nn.MaxPool2d(2)\n",
    "            )\n",
    "        self.fc1 = nn.Linear(3*3*64,10)\n",
    "        self.dropout = nn.Dropout(0.5)\n",
    "        self.fc2 = nn.Linear(10,2)\n",
    "        self.relu = nn.ReLU()\n",
    "    \n",
    "    def forward(self,x):\n",
    "        x=self.layer1(x)\n",
    "        x=self.layer2(x)\n",
    "        x=self.layer3(x)\n",
    "        #将二维特征映射展开送入全连接层\n",
    "        x = x.view(x.size(0),-1) # flatten (batch_size, 32*7*7)\n",
    "        x=self.fc1(x)\n",
    "        x=self.dropout(x)\n",
    "        x=self.fc2(x)\n",
    "        out=self.relu(x)\n",
    "        return out"
   ]
  },
  {
   "cell_type": "code",
   "execution_count": 11,
   "metadata": {
    "ExecuteTime": {
     "end_time": "2023-04-09T14:43:56.144531Z",
     "start_time": "2023-04-09T14:43:55.888516Z"
    }
   },
   "outputs": [
    {
     "data": {
      "text/plain": [
       "True"
      ]
     },
     "execution_count": 11,
     "metadata": {},
     "output_type": "execute_result"
    }
   ],
   "source": [
    "torch.cuda.is_available()"
   ]
  },
  {
   "cell_type": "code",
   "execution_count": 12,
   "metadata": {
    "ExecuteTime": {
     "end_time": "2023-04-09T14:43:56.172520Z",
     "start_time": "2023-04-09T14:43:56.152521Z"
    }
   },
   "outputs": [],
   "source": [
    "torch.cuda.set_device(0)"
   ]
  },
  {
   "cell_type": "code",
   "execution_count": 13,
   "metadata": {
    "ExecuteTime": {
     "end_time": "2023-04-09T14:43:56.251478Z",
     "start_time": "2023-04-09T14:43:56.176512Z"
    }
   },
   "outputs": [],
   "source": [
    "#model=My_CNN()#实例化模型\n",
    "model = My_CNN().cuda()# 实例化模型并放入GPU"
   ]
  },
  {
   "cell_type": "code",
   "execution_count": 14,
   "metadata": {
    "ExecuteTime": {
     "end_time": "2023-04-09T14:43:56.267080Z",
     "start_time": "2023-04-09T14:43:56.251478Z"
    }
   },
   "outputs": [],
   "source": [
    "optimizer = optim.Adam(model.parameters(),lr=0.001)\n",
    "criterion = nn.CrossEntropyLoss()#交叉熵损失"
   ]
  },
  {
   "cell_type": "markdown",
   "metadata": {},
   "source": [
    "#### 训练模型"
   ]
  },
  {
   "cell_type": "code",
   "execution_count": 15,
   "metadata": {
    "ExecuteTime": {
     "end_time": "2023-04-09T14:47:36.225596Z",
     "start_time": "2023-04-09T14:43:56.267080Z"
    }
   },
   "outputs": [
    {
     "name": "stdout",
     "output_type": "stream",
     "text": [
      "Epoch 1/20\n",
      " Train Loss: 0.702, Train Acc: 50.35%\n",
      "Epoch 2/20\n",
      " Train Loss: 0.691, Train Acc: 50.15%\n",
      "Epoch 3/20\n",
      " Train Loss: 0.694, Train Acc: 51.40%\n",
      "Epoch 4/20\n",
      " Train Loss: 0.678, Train Acc: 54.95%\n",
      "Epoch 5/20\n",
      " Train Loss: 0.654, Train Acc: 58.75%\n",
      "Epoch 6/20\n",
      " Train Loss: 0.627, Train Acc: 62.30%\n",
      "Epoch 7/20\n",
      " Train Loss: 0.591, Train Acc: 66.90%\n",
      "Epoch 8/20\n",
      " Train Loss: 0.554, Train Acc: 70.55%\n",
      "Epoch 9/20\n",
      " Train Loss: 0.519, Train Acc: 74.50%\n",
      "Epoch 10/20\n",
      " Train Loss: 0.489, Train Acc: 75.85%\n",
      "Epoch 11/20\n",
      " Train Loss: 0.458, Train Acc: 78.50%\n",
      "Epoch 12/20\n",
      " Train Loss: 0.425, Train Acc: 80.85%\n",
      "Epoch 13/20\n",
      " Train Loss: 0.360, Train Acc: 84.20%\n",
      "Epoch 14/20\n",
      " Train Loss: 0.337, Train Acc: 85.65%\n",
      "Epoch 15/20\n",
      " Train Loss: 0.299, Train Acc: 87.90%\n",
      "Epoch 16/20\n",
      " Train Loss: 0.249, Train Acc: 89.95%\n",
      "Epoch 17/20\n",
      " Train Loss: 0.236, Train Acc: 90.85%\n",
      "Epoch 18/20\n",
      " Train Loss: 0.221, Train Acc: 91.15%\n",
      "Epoch 19/20\n",
      " Train Loss: 0.178, Train Acc: 93.85%\n",
      "Epoch 20/20\n",
      " Train Loss: 0.154, Train Acc: 94.40%\n"
     ]
    }
   ],
   "source": [
    "EPOCHS=20\n",
    "for epoch in range(EPOCHS):\n",
    "    train_loss=0\n",
    "    num_correct=0\n",
    "    train_acc=0\n",
    "    print(\"Epoch {}/{}\".format(epoch+1, EPOCHS))\n",
    "    for data in train_loader:\n",
    "        img, label = data# 数据送入定义好的模型\n",
    "        img=img.cuda()\n",
    "        label=label.cuda()\n",
    "        \n",
    "        img = torch.autograd.Variable(img)\n",
    "        label = torch.autograd.Variable(label)\n",
    "        \n",
    "        out = model(img).cuda()#输出放回CPU计算\n",
    "        \n",
    "        optimizer.zero_grad()\n",
    "        loss = criterion(out, label)\n",
    "        loss.backward()# 反向传播\n",
    "        optimizer.step()\n",
    "        \n",
    "        train_loss += loss.data\n",
    "        _,pred = torch.max(out.data,1)#第1维度上的最大值，pred为标签序号\n",
    "        num_correct+=torch.sum(pred==label.data)\n",
    "    print(' Train Loss: {:.3f}, Train Acc: {:.2f}%'.format(\n",
    "        train_loss/len(train_loader), 100*num_correct/len(train_data)))"
   ]
  },
  {
   "cell_type": "code",
   "execution_count": 16,
   "metadata": {
    "ExecuteTime": {
     "end_time": "2023-04-09T14:47:38.690728Z",
     "start_time": "2023-04-09T14:47:36.228596Z"
    }
   },
   "outputs": [
    {
     "name": "stdout",
     "output_type": "stream",
     "text": [
      "Test Loss: 0.738，\n",
      "Test Acc: 76.40%\n"
     ]
    }
   ],
   "source": [
    "model.eval()#测试集不需要多个epoch\n",
    "test_loss=0#初始化\n",
    "test_acc=0\n",
    "for i, (datas, labels) in enumerate(test_loader):\n",
    "    img, label = datas,labels# 数据送入定义好的模型\n",
    "        \n",
    "    img = torch.autograd.Variable(img).cuda()\n",
    "    label = torch.autograd.Variable(label).cuda()\n",
    "    out = model(img).cuda()\n",
    "        \n",
    "    loss = criterion(out, label)\n",
    "    test_loss += loss.data\n",
    "    _,pred = out.max(1)\n",
    "    test_acc+=torch.sum(pred==label.data)\n",
    "print('Test Loss: {:.3f}，'.format( test_loss/len(test_loader)))\n",
    "print('Test Acc: {:.2f}%'.format( 100*test_acc/len(test_data)))"
   ]
  },
  {
   "cell_type": "markdown",
   "metadata": {},
   "source": [
    "### 导入VGG模型"
   ]
  },
  {
   "cell_type": "code",
   "execution_count": 17,
   "metadata": {
    "ExecuteTime": {
     "end_time": "2023-04-09T14:47:39.610060Z",
     "start_time": "2023-04-09T14:47:38.690728Z"
    }
   },
   "outputs": [
    {
     "name": "stdout",
     "output_type": "stream",
     "text": [
      "VGG(\n",
      "  (features): Sequential(\n",
      "    (0): Conv2d(3, 64, kernel_size=(3, 3), stride=(1, 1), padding=(1, 1))\n",
      "    (1): ReLU(inplace=True)\n",
      "    (2): Conv2d(64, 64, kernel_size=(3, 3), stride=(1, 1), padding=(1, 1))\n",
      "    (3): ReLU(inplace=True)\n",
      "    (4): MaxPool2d(kernel_size=2, stride=2, padding=0, dilation=1, ceil_mode=False)\n",
      "    (5): Conv2d(64, 128, kernel_size=(3, 3), stride=(1, 1), padding=(1, 1))\n",
      "    (6): ReLU(inplace=True)\n",
      "    (7): Conv2d(128, 128, kernel_size=(3, 3), stride=(1, 1), padding=(1, 1))\n",
      "    (8): ReLU(inplace=True)\n",
      "    (9): MaxPool2d(kernel_size=2, stride=2, padding=0, dilation=1, ceil_mode=False)\n",
      "    (10): Conv2d(128, 256, kernel_size=(3, 3), stride=(1, 1), padding=(1, 1))\n",
      "    (11): ReLU(inplace=True)\n",
      "    (12): Conv2d(256, 256, kernel_size=(3, 3), stride=(1, 1), padding=(1, 1))\n",
      "    (13): ReLU(inplace=True)\n",
      "    (14): Conv2d(256, 256, kernel_size=(3, 3), stride=(1, 1), padding=(1, 1))\n",
      "    (15): ReLU(inplace=True)\n",
      "    (16): MaxPool2d(kernel_size=2, stride=2, padding=0, dilation=1, ceil_mode=False)\n",
      "    (17): Conv2d(256, 512, kernel_size=(3, 3), stride=(1, 1), padding=(1, 1))\n",
      "    (18): ReLU(inplace=True)\n",
      "    (19): Conv2d(512, 512, kernel_size=(3, 3), stride=(1, 1), padding=(1, 1))\n",
      "    (20): ReLU(inplace=True)\n",
      "    (21): Conv2d(512, 512, kernel_size=(3, 3), stride=(1, 1), padding=(1, 1))\n",
      "    (22): ReLU(inplace=True)\n",
      "    (23): MaxPool2d(kernel_size=2, stride=2, padding=0, dilation=1, ceil_mode=False)\n",
      "    (24): Conv2d(512, 512, kernel_size=(3, 3), stride=(1, 1), padding=(1, 1))\n",
      "    (25): ReLU(inplace=True)\n",
      "    (26): Conv2d(512, 512, kernel_size=(3, 3), stride=(1, 1), padding=(1, 1))\n",
      "    (27): ReLU(inplace=True)\n",
      "    (28): Conv2d(512, 512, kernel_size=(3, 3), stride=(1, 1), padding=(1, 1))\n",
      "    (29): ReLU(inplace=True)\n",
      "    (30): MaxPool2d(kernel_size=2, stride=2, padding=0, dilation=1, ceil_mode=False)\n",
      "  )\n",
      "  (avgpool): AdaptiveAvgPool2d(output_size=(7, 7))\n",
      "  (classifier): Sequential(\n",
      "    (0): Linear(in_features=25088, out_features=4096, bias=True)\n",
      "    (1): ReLU(inplace=True)\n",
      "    (2): Dropout(p=0.5, inplace=False)\n",
      "    (3): Linear(in_features=4096, out_features=4096, bias=True)\n",
      "    (4): ReLU(inplace=True)\n",
      "    (5): Dropout(p=0.5, inplace=False)\n",
      "    (6): Linear(in_features=4096, out_features=1000, bias=True)\n",
      "  )\n",
      ")\n"
     ]
    }
   ],
   "source": [
    "vgg16=torch.load('VGG16.pth') #已下载在本地\n",
    "print(vgg16)"
   ]
  },
  {
   "cell_type": "code",
   "execution_count": 18,
   "metadata": {
    "ExecuteTime": {
     "end_time": "2023-04-09T14:47:39.625071Z",
     "start_time": "2023-04-09T14:47:39.610060Z"
    }
   },
   "outputs": [],
   "source": [
    "vgg = vgg16.features # 抽取VGG网络的部分模块\n",
    "for param in vgg.parameters():\n",
    "    param.requires_grad = False #将VGG模型的训练参数设置为不可训练（冻结）"
   ]
  },
  {
   "cell_type": "code",
   "execution_count": 19,
   "metadata": {
    "ExecuteTime": {
     "end_time": "2023-04-09T14:47:39.640282Z",
     "start_time": "2023-04-09T14:47:39.625071Z"
    }
   },
   "outputs": [],
   "source": [
    "class VGG(nn.Module):\n",
    "    def __init__(self)-> None:\n",
    "        super(VGG, self).__init__()\n",
    "        self.vgg = vgg\n",
    "        self.classifier = nn.Sequential(\n",
    "            nn.Linear(25088, 512), #原结构为25088，4096\n",
    "            nn.ReLU(),\n",
    "            nn.Dropout(p=0.5),\n",
    "            \n",
    "            nn.Linear(512, 256),\n",
    "            nn.ReLU(),\n",
    "            nn.Dropout(p=0.5),\n",
    "            \n",
    "            nn.Linear(256, 128),\n",
    "            nn.ReLU(),\n",
    "            nn.Dropout(p=0.5),\n",
    "            \n",
    "            nn.Linear(128, 2),\n",
    "            nn.Softmax(dim=1)\n",
    "        )\n",
    "    \n",
    "    def forward(self, x):\n",
    "        x = x.view(-1, 3, 224, 224)  # 将输入数据展开成1维张量\n",
    "        x = self.vgg(x)\n",
    "\n",
    "        x = x.view(x.size(0), -1) #将原VGG16的输出转化为目标输出\n",
    "        x = self.classifier(x)\n",
    "    \n",
    "        return x"
   ]
  },
  {
   "cell_type": "code",
   "execution_count": 20,
   "metadata": {
    "ExecuteTime": {
     "end_time": "2023-04-09T14:47:39.738803Z",
     "start_time": "2023-04-09T14:47:39.640282Z"
    }
   },
   "outputs": [],
   "source": [
    "net = VGG() #实例化模型放入GPU，CUDA out of memory"
   ]
  },
  {
   "cell_type": "code",
   "execution_count": 21,
   "metadata": {
    "ExecuteTime": {
     "end_time": "2023-04-09T14:47:39.754456Z",
     "start_time": "2023-04-09T14:47:39.738803Z"
    }
   },
   "outputs": [],
   "source": [
    "optimizer = optim.Adam(net.parameters(),lr=0.001)\n",
    "criterion = nn.CrossEntropyLoss()#交叉熵损失"
   ]
  },
  {
   "cell_type": "code",
   "execution_count": 22,
   "metadata": {
    "ExecuteTime": {
     "end_time": "2023-04-09T15:21:38.733897Z",
     "start_time": "2023-04-09T14:47:39.754456Z"
    }
   },
   "outputs": [
    {
     "name": "stdout",
     "output_type": "stream",
     "text": [
      "Epoch 1/5\n",
      " Train Loss: 0.380, Train Acc: 92.60%\n",
      "Epoch 2/5\n",
      " Train Loss: 0.334, Train Acc: 97.95%\n",
      "Epoch 3/5\n",
      " Train Loss: 0.326, Train Acc: 98.65%\n",
      "Epoch 4/5\n",
      " Train Loss: 0.337, Train Acc: 97.50%\n",
      "Epoch 5/5\n",
      " Train Loss: 0.344, Train Acc: 96.80%\n"
     ]
    }
   ],
   "source": [
    "EPOCHS=5 #第一个epoch精度92.65%，第二个96.15%，epoch数不用20个\n",
    "#VGG模型运行s\n",
    "for epoch in range(EPOCHS):\n",
    "    train_loss=0\n",
    "    num_correct=0\n",
    "    train_acc=0\n",
    "    print(\"Epoch {}/{}\".format(epoch+1, EPOCHS))\n",
    "    for data in train_loader:\n",
    "        img, label = data# 数据送入定义好的模型\n",
    "        img=img\n",
    "        label=label\n",
    "        \n",
    "        img = torch.autograd.Variable(img)\n",
    "        label = torch.autograd.Variable(label)\n",
    "        \n",
    "        out = net(img)#输出放回CPU计算，CUDA out of memory，不可\n",
    "        \n",
    "        optimizer.zero_grad()\n",
    "        loss = criterion(out, label)\n",
    "        loss.backward()# 反向传播\n",
    "        optimizer.step()\n",
    "        \n",
    "        train_loss += loss.data\n",
    "        _,pred = torch.max(out.data,1)#第1维度上的最大值，pred为标签序号\n",
    "        num_correct+=torch.sum(pred==label.data)\n",
    "    print(' Train Loss: {:.3f}, Train Acc: {:.2f}%'.format(\n",
    "        train_loss/len(train_loader), 100*num_correct/len(train_data)))"
   ]
  },
  {
   "cell_type": "code",
   "execution_count": 23,
   "metadata": {
    "ExecuteTime": {
     "end_time": "2023-04-09T15:23:25.476696Z",
     "start_time": "2023-04-09T15:21:38.733897Z"
    }
   },
   "outputs": [
    {
     "name": "stdout",
     "output_type": "stream",
     "text": [
      "Test Loss: 0.340\n",
      "Test Acc: 97.40%\n"
     ]
    }
   ],
   "source": [
    "net.eval()\n",
    "test_loss=0#初始化\n",
    "test_acc=0\n",
    "for i, (datas, labels) in enumerate(test_loader):\n",
    "    img, label = datas,labels# 数据送入定义好的模型    \n",
    "    img = torch.autograd.Variable(img)\n",
    "    label = torch.autograd.Variable(label)\n",
    "    out = net(img)   \n",
    "    loss = criterion(out, label)\n",
    "    test_loss += loss.data\n",
    "    _,pred = out.max(1)\n",
    "    test_acc+=torch.sum(pred==label.data)\n",
    "print('Test Loss: {:.3f}'.format( test_loss/len(test_loader)))\n",
    "print('Test Acc: {:.2f}%'.format( 100*test_acc/len(test_data)))"
   ]
  },
  {
   "cell_type": "code",
   "execution_count": null,
   "metadata": {},
   "outputs": [],
   "source": []
  }
 ],
 "metadata": {
  "kernelspec": {
   "display_name": "Python 3",
   "language": "python",
   "name": "python3"
  },
  "language_info": {
   "codemirror_mode": {
    "name": "ipython",
    "version": 3
   },
   "file_extension": ".py",
   "mimetype": "text/x-python",
   "name": "python",
   "nbconvert_exporter": "python",
   "pygments_lexer": "ipython3",
   "version": "3.7.0"
  }
 },
 "nbformat": 4,
 "nbformat_minor": 2
}
