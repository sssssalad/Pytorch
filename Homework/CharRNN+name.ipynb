{
 "cells": [
  {
   "attachments": {},
   "cell_type": "markdown",
   "metadata": {},
   "source": [
    "#### 数据处理"
   ]
  },
  {
   "cell_type": "code",
   "execution_count": 1,
   "metadata": {},
   "outputs": [],
   "source": [
    "from io import open\n",
    "import glob\n",
    "import os\n",
    "import unicodedata\n",
    "import string\n",
    "import torch\n",
    "import torch.nn as nn\n",
    "import random\n",
    "import matplotlib.pyplot as plt\n",
    "import matplotlib.ticker as ticker"
   ]
  },
  {
   "cell_type": "code",
   "execution_count": 2,
   "metadata": {},
   "outputs": [
    {
     "name": "stdout",
     "output_type": "stream",
     "text": [
      "['data/names\\\\Arabic.txt', 'data/names\\\\Chinese.txt', 'data/names\\\\Czech.txt', 'data/names\\\\Dutch.txt', 'data/names\\\\English.txt', 'data/names\\\\French.txt', 'data/names\\\\German.txt', 'data/names\\\\Greek.txt', 'data/names\\\\Irish.txt', 'data/names\\\\Italian.txt', 'data/names\\\\Japanese.txt', 'data/names\\\\Korean.txt', 'data/names\\\\Polish.txt', 'data/names\\\\Portuguese.txt', 'data/names\\\\Russian.txt', 'data/names\\\\Scottish.txt', 'data/names\\\\Spanish.txt', 'data/names\\\\Vietnamese.txt']\n"
     ]
    }
   ],
   "source": [
    "def findFiles(path):\n",
    "    \"\"\"查找符合通配符要求的文件\"\"\"\n",
    "    return glob.glob(path)\n",
    "\n",
    "print(findFiles(\"data/names/*.txt\"))"
   ]
  },
  {
   "cell_type": "code",
   "execution_count": 3,
   "metadata": {},
   "outputs": [
    {
     "name": "stdout",
     "output_type": "stream",
     "text": [
      "O'Neal\n"
     ]
    }
   ],
   "source": [
    "all_letters = string.ascii_letters + \".,;'-\"\n",
    "# ascii_letters方法:生成全部字母，包括a-z,A-Z\n",
    "n_letters = len(all_letters) + 1    #字符种类数\n",
    "\n",
    "#unicodedata.normalize():将Unicode文本标准化(NFC表示字符应该由整体组成)\n",
    "#unicodedata.category():返回字符在unicode里分类的类型\n",
    "def unicodeToAscii(s):\n",
    "    \"\"\"将 Unicode 转换为 ASCII \"\"\"\n",
    "    return ''.join(\n",
    "        c for c in unicodedata.normalize('NFD',s)\n",
    "        if unicodedata.category(c) != 'Mn' \n",
    "        and c in all_letters\n",
    "        )   \n",
    "    \n",
    "print(unicodeToAscii(\"O'Néàl\")) #验证unicodeToAscii函数"
   ]
  },
  {
   "cell_type": "code",
   "execution_count": 4,
   "metadata": {},
   "outputs": [
    {
     "name": "stdout",
     "output_type": "stream",
     "text": [
      "['Adamczak', 'Adamczyk', 'Andrysiak', 'Auttenberg', 'Bartosz', 'Bernard', 'Bobienski', 'Bosko', 'Broz', 'Brzezicki', 'Budny', 'Bukoski', 'Bukowski', 'Chlebek', 'Chmiel', 'Czajka', 'Czajkowski', 'Dubanowski', 'Dubicki', 'Dunajski', 'Dziedzic', 'Fabian', 'Filipek', 'Filipowski', 'Gajos', 'Gniewek', 'Gomolka', 'Gomulka', 'Gorecki', 'Gorka', 'Gorski', 'Grzeskiewicz', 'Gwozdek', 'Jagoda', 'Janda', 'Janowski', 'Jaskolski', 'Jaskulski', 'Jedynak', 'Jelen', 'Jez', 'Jordan', 'Kaczka', 'Kaluza', 'Kaminski', 'Kasprzak', 'Kava', 'Kedzierski', 'Kijek', 'Klimek', 'Kosmatka', 'Kowalczyk', 'Kowalski', 'Koziol', 'Kozlow', 'Kozlowski', 'Krakowski', 'Krol', 'Kumiega', 'Lawniczak', 'Lis', 'Majewski', 'Malinowski', 'Maly', 'Marek', 'Marszaek', 'Maslanka', 'Mencher', 'Miazga', 'Michel', 'Mikolajczak', 'Mozdzierz', 'Niemczyk', 'Niemec', 'Nosek', 'Nowak', 'Pakulski', 'Pasternack', 'Pasternak', 'Paszek', 'Piatek', 'Piontek', 'Pokorny', 'Poplawski', 'Rog', 'Rudaski', 'Rudawski', 'Rusnak', 'Rutkowski', 'Sadowski', 'Salomon', 'Serafin', 'Sienkiewicz', 'Sierzant', 'Sitko', 'Skala', 'Slaski', 'Slazak', 'Slusarczyk', 'Slusarski', 'Smolak', 'Sniegowski', 'Sobol', 'Sokal', 'Sokolof', 'Sokoloff', 'Sokolofsky', 'Sokolowski', 'Sokolsky', 'Sowka', 'Stanek', 'Starek', 'Stawski', 'Stolarz', 'Szczepanski', 'Szewc', 'Szwarc', 'Szweda', 'Szwedko', 'Walentowicz', 'Warszawski', 'Wawrzaszek', 'Wiater', 'Winograd', 'Winogrodzki', 'Wojda', 'Wojewodka', 'Wojewodzki', 'Wronski', 'Wyrick', 'Wyrzyk', 'Zabek', 'Zawisza', 'Zdunowski', 'Zdunowski', 'Zielinski', 'Ziemniak', 'Zientek', 'Zuraw']\n"
     ]
    }
   ],
   "source": [
    "#定义 readLines 函数，读取文件并将文件每一行内容的编码转换为 ASCII\n",
    "def readLines(filename):\n",
    "    with open(filename, encoding='utf-8') as some_file:\n",
    "        return [unicodeToAscii(line.strip()) for line in some_file]\n",
    "print(readLines('data/names/Polish.txt'))"
   ]
  },
  {
   "cell_type": "code",
   "execution_count": 5,
   "metadata": {},
   "outputs": [
    {
     "name": "stdout",
     "output_type": "stream",
     "text": [
      "# categories: 18 ['Arabic', 'Chinese', 'Czech', 'Dutch', 'English', 'French', 'German', 'Greek', 'Irish', 'Italian', 'Japanese', 'Korean', 'Polish', 'Portuguese', 'Russian', 'Scottish', 'Spanish', 'Vietnamese']\n"
     ]
    }
   ],
   "source": [
    "#定义 category_lines 字典和 all_categories 列表\n",
    "# category_lines: key 为语言的类别，value 为名称的列表\n",
    "# all_categories:所有语言的种类。\n",
    "category_lines = {}\n",
    "all_categories = []\n",
    "#os.path.splitext(“文件路径”):分离文件名与扩展名；默认返回(fname,fextension)元组\n",
    "for filename in findFiles('data/names/*.txt'):\n",
    "    category = os.path.splitext(os.path.basename(filename))[0] #将文件名设置为种类名\n",
    "    all_categories.append(category)\n",
    "    lines = readLines(filename)\n",
    "    category_lines[category] = lines\n",
    "n_categories = len(all_categories)\n",
    "print('# categories:', n_categories, all_categories)"
   ]
  },
  {
   "attachments": {},
   "cell_type": "markdown",
   "metadata": {},
   "source": [
    "#### 创建网络"
   ]
  },
  {
   "cell_type": "code",
   "execution_count": 6,
   "metadata": {},
   "outputs": [],
   "source": [
    "class RNN(nn.Module) :\n",
    "    def __init__(self,input_size, hidden_size, output_size):\n",
    "        super(RNN,self).__init__()\n",
    "        self.hidden_size = hidden_size\n",
    "        \n",
    "        self.i2h = nn.Linear(n_categories + input_size + hidden_size,hidden_size)\n",
    "        self.i2o = nn.Linear(n_categories + input_size + hidden_size,output_size)\n",
    "        self.o2o = nn.Linear(hidden_size + output_size, output_size)\n",
    "        self.dropout = nn.Dropout(0.1)\n",
    "        self.softmax = nn.LogSoftmax(dim=1)\n",
    "    def forward(self,category, input, hidden):\n",
    "        input_combined = torch.cat((category, input, hidden), 1)\n",
    "        hidden = self.i2h(input_combined )\n",
    "        output = self.i2o(input_combined)\n",
    "        output_combined = torch.cat((hidden,output),1)\n",
    "        output = self.o2o(output_combined)\n",
    "        output = self.dropout(output)\n",
    "        output = self.softmax(output)\n",
    "        return output, hidden\n",
    "    def initHidden(self):\n",
    "        return torch.zeros(1,self.hidden_size)"
   ]
  },
  {
   "attachments": {},
   "cell_type": "markdown",
   "metadata": {},
   "source": [
    "#### 准备训练"
   ]
  },
  {
   "cell_type": "code",
   "execution_count": 7,
   "metadata": {},
   "outputs": [],
   "source": [
    "#定义通过 randomTrainingPair 函数，随机选择一种语言和其中一个名称作为训练数据。\n",
    "# 随机选择\n",
    "def randomChoice(lst):\n",
    "    return lst[random.randint(0, len(lst) - 1)]\n",
    "\n",
    "# 随机选择一种语言和一个名称\n",
    "def randomTrainingPair():\n",
    "    category = randomChoice(all_categories)\n",
    "    line = randomChoice(category_lines[category])\n",
    "    return category, line"
   ]
  },
  {
   "cell_type": "code",
   "execution_count": 8,
   "metadata": {},
   "outputs": [],
   "source": [
    "#定义 categoryTensor 函数将类别转换成维度大小为 1*n_categories 的 one-hot张量。\n",
    "def categoryTensor(category):\n",
    "    li = all_categories.index(category)\n",
    "    tensor = torch.zeros(1,len(all_categories))\n",
    "    tensor[0][li] = 1\n",
    "    return tensor\n",
    "\n",
    "#定义 inputTensor 函数,将输入转换成一个由首字母到尾字母(不包括 EOS)组成的 one-hot 矩阵。\n",
    "def inputTensor(line):\n",
    "    tensor = torch.zeros(len(line),1, n_letters)\n",
    "    for li in range(len(line)):\n",
    "        letter = line[li]\n",
    "        tensor[li][0][all_letters.find(letter)] =1\n",
    "    return tensor\n",
    "\n",
    "#定义 targetTensor 函数，将目标值准换成一个由第二个字母到尾字母 (包括EOS) 组成的张量。\n",
    "def targetTensor(line):\n",
    "    letter_indexes = [all_letters.find(line[li]) for li in range(1, len(line))]\n",
    "    letter_indexes.append(n_letters - 1) # EOS\n",
    "    return torch.LongTensor(letter_indexes)\n",
    "\n",
    "#使用 randomTrainingExample 函数来获取随机对(category, line),将其转换为所需格式的(category, input, target)张量。\n",
    "def randomTrainingExample():\n",
    "    category, line = randomTrainingPair()\n",
    "    category_tensor = categoryTensor(category)\n",
    "    input_line_tensor = inputTensor(line)\n",
    "    target_line_tensor = targetTensor(line)\n",
    "    return category_tensor, input_line_tensor, target_line_tensor"
   ]
  },
  {
   "attachments": {},
   "cell_type": "markdown",
   "metadata": {},
   "source": [
    "#### 训练网络"
   ]
  },
  {
   "cell_type": "code",
   "execution_count": 21,
   "metadata": {},
   "outputs": [],
   "source": [
    "#实例化 RNN 模型，并设置损失函数、学习率、迭代次数等参数，同时初始化损失值\n",
    "rnn = RNN(n_letters,128,n_letters)\n",
    "criterion = nn.NLLLoss()\n",
    "learning_rate = 0.0005\n",
    "n_iters = 100000\n",
    "print_every = 5000\n",
    "plot_every = 500\n",
    "all_losses = []\n",
    "total_loss = 0"
   ]
  },
  {
   "cell_type": "code",
   "execution_count": 22,
   "metadata": {},
   "outputs": [],
   "source": [
    "#定义训练函数 train，与仅使用最后一个输出的分类相反，我们在每个步骤进行预测，因此在每个步骤都计算损失。\n",
    "def train(category_tensor, input_line_tensor, target_line_tensor):\n",
    "    target_line_tensor.unsqueeze_(-1)\n",
    "    #unsqueeze少了一个下划线会报错Expected input batch_size (1) to match target batch_size (0).\n",
    "    hidden = rnn.initHidden()\n",
    "    rnn.zero_grad()\n",
    "    loss = 0\n",
    "    for i in range(input_line_tensor.size(0)):\n",
    "        output, hidden = rnn(category_tensor, input_line_tensor[i], hidden)\n",
    "        loss += criterion(output, target_line_tensor[i])\n",
    "\n",
    "        loss.backward(retain_graph=True)\n",
    "    for p in rnn.parameters():\n",
    "        p.data.add_(p.grad.data, alpha=-learning_rate)\n",
    "    return output, loss.item() / input_line_tensor.size(0)"
   ]
  },
  {
   "cell_type": "code",
   "execution_count": 23,
   "metadata": {},
   "outputs": [
    {
     "name": "stdout",
     "output_type": "stream",
     "text": [
      "(5000 5%) 3.0812\n",
      "(10000 10%) 2.3531\n",
      "(15000 15%) 2.3953\n",
      "(20000 20%) 2.6467\n",
      "(25000 25%) 3.4537\n",
      "(30000 30%) 2.8119\n",
      "(35000 35%) 1.4942\n",
      "(40000 40%) 1.8955\n",
      "(45000 45%) 1.3443\n",
      "(50000 50%) 2.4474\n",
      "(55000 55%) 1.4420\n",
      "(60000 60%) 2.7475\n",
      "(65000 65%) 2.2580\n",
      "(70000 70%) 2.7045\n",
      "(75000 75%) 2.2840\n",
      "(80000 80%) 3.2191\n",
      "(85000 85%) 3.1372\n",
      "(90000 90%) 3.0178\n",
      "(95000 95%) 2.7602\n",
      "(100000 100%) 1.7187\n"
     ]
    }
   ],
   "source": [
    "#执行训练,每经过 print——every=5000 次选代就打印一次,分别打印选代次数迭代进度和损失值等。\n",
    "# 根据每经过 plot_every=500 次选代就计算平均损失,将其添加进 all_losses 列表便于后面绘制训练过程中损失函数的图像。\n",
    "for iter in range(1, n_iters + 1):\n",
    "    output, loss = train(*randomTrainingExample())\n",
    "    total_loss += loss\n",
    "    if iter % print_every == 0:\n",
    "        print('(%d %d%%) %.4f' % (iter, iter / n_iters * 100, loss))\n",
    "    if iter % plot_every == 0:\n",
    "        all_losses.append(total_loss / plot_every)\n",
    "        total_loss = 0"
   ]
  },
  {
   "cell_type": "code",
   "execution_count": 24,
   "metadata": {},
   "outputs": [
    {
     "data": {
      "text/plain": [
       "[<matplotlib.lines.Line2D at 0x1eb83f795f8>]"
      ]
     },
     "execution_count": 24,
     "metadata": {},
     "output_type": "execute_result"
    },
    {
     "data": {
      "image/png": "[encoded data removed]",
      "text/plain": [
       "<Figure size 432x288 with 1 Axes>"
      ]
     },
     "metadata": {
      "needs_background": "light"
     },
     "output_type": "display_data"
    }
   ],
   "source": [
    "plt.figure()\n",
    "plt.plot(all_losses)"
   ]
  },
  {
   "attachments": {},
   "cell_type": "markdown",
   "metadata": {},
   "source": [
    "#### 验证阶段"
   ]
  },
  {
   "cell_type": "code",
   "execution_count": 25,
   "metadata": {},
   "outputs": [],
   "source": [
    "#在训练结束后，对获得的模型进行验证。这里，我们向网络中输入一个字母并推理得出下一个字母。将输出的字母作为下一步的输入，重复执行直到 EOS 标记处。\n",
    "max_length = 20\n",
    "def sample(category,start_letter='A'): # 根据类别、起始字母、隐藏状态开始推理\n",
    "    with torch.no_grad():\n",
    "        category_tensor = categoryTensor(category)\n",
    "        input = inputTensor(start_letter)\n",
    "        hidden = rnn.initHidden()\n",
    "        output_name = start_letter\n",
    "        for i in range(max_length):\n",
    "            output, hidden = rnn(category_tensor, input[0], hidden)\n",
    "            topv, topi = output.topk(1)\n",
    "            topi = topi[0][0]\n",
    "            if topi == n_letters - 1:\n",
    "                break\n",
    "            else:\n",
    "                letter = all_letters[topi]\n",
    "                output_name += letter\n",
    "            input = inputTensor(letter)\n",
    "        return output_name"
   ]
  },
  {
   "cell_type": "code",
   "execution_count": 26,
   "metadata": {},
   "outputs": [
    {
     "name": "stdout",
     "output_type": "stream",
     "text": [
      "语言类型:Russian 首字母: R 输出结果: Romakev\n",
      "语言类型:Russian 首字母: U 输出结果: Ullinikov\n",
      "语言类型:Russian 首字母: S 输出结果: Sakhantovins\n",
      "语言类型:German 首字母: G 输出结果: Grenter\n",
      "语言类型:German 首字母: E 输出结果: Echer\n",
      "语言类型:German 首字母: R 输出结果: Romeren\n",
      "语言类型:Spanish 首字母: S 输出结果: Sovalar\n",
      "语言类型:Spanish 首字母: P 输出结果: Pallan\n",
      "语言类型:Spanish 首字母: A 输出结果: Alarana\n",
      "语言类型:Chinese 首字母: C 输出结果: Can\n",
      "语言类型:Chinese 首字母: H 输出结果: Hang\n",
      "语言类型:Chinese 首字母: I 输出结果: Ina\n"
     ]
    }
   ],
   "source": [
    "#遍历提供的宇母，得到输出名称\n",
    "def samples(category, start_letters='ABC'):\n",
    "    for start_letter in start_letters:\n",
    "        print('语言类型:%s 首字母: %s 输出结果: %s' %(category,start_letter,\n",
    "                                           sample(category,start_letter)))\n",
    "        \n",
    "samples('Russian','RUS')\n",
    "samples('German','GER')\n",
    "samples('Spanish','SPA')\n",
    "samples('Chinese','CHI')"
   ]
  },
  {
   "cell_type": "code",
   "execution_count": null,
   "metadata": {},
   "outputs": [],
   "source": []
  }
 ],
 "metadata": {
  "kernelspec": {
   "display_name": "base",
   "language": "python",
   "name": "python3"
  },
  "language_info": {
   "codemirror_mode": {
    "name": "ipython",
    "version": 3
   },
   "file_extension": ".py",
   "mimetype": "text/x-python",
   "name": "python",
   "nbconvert_exporter": "python",
   "pygments_lexer": "ipython3",
   "version": "3.7.0"
  },
  "orig_nbformat": 4
 },
 "nbformat": 4,
 "nbformat_minor": 2
}
