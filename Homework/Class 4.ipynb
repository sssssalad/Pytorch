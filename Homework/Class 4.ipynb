{
 "cells": [
  {
   "cell_type": "code",
   "execution_count": 14,
   "metadata": {
    "ExecuteTime": {
     "end_time": "2023-04-10T13:59:32.475714Z",
     "start_time": "2023-04-10T13:59:31.200547Z"
    },
    "collapsed": true
   },
   "outputs": [],
   "source": [
    "import os\n",
    "import torch\n",
    "import torchvision\n",
    "\n",
    "import torchvision.transforms as transforms\n",
    "import torch.optim as optim\n",
    "import torch.nn as nn\n",
    "\n",
    "from torchvision import datasets\n",
    "from torchvision import models\n",
    "from torch.utils.data.dataloader import DataLoader\n",
    "from pathlib import Path\n",
    "from torch.utils.tensorboard import SummaryWriter\n",
    "writer = SummaryWriter()\n"
   ]
  },
  {
   "attachments": {},
   "cell_type": "markdown",
   "metadata": {
    "collapsed": false
   },
   "source": [
    "#### Model"
   ]
  },
  {
   "cell_type": "code",
   "execution_count": 16,
   "metadata": {
    "ExecuteTime": {
     "end_time": "2023-04-10T14:35:55.642890Z",
     "start_time": "2023-04-10T14:35:55.598890Z"
    },
    "collapsed": false
   },
   "outputs": [],
   "source": [
    "class Net(nn.Module):\n",
    "    def __init__ (self):\n",
    "        super(Net,self).__init__()\n",
    "        self. conv1 = nn. Sequential (\n",
    "            nn.Conv2d (3, 32, kernel_size=3, padding=1),\n",
    "            nn.ReLU(),\n",
    "            nn.Conv2d (32, 64, kernel_size=3, stride=1, padding=1),\n",
    "            nn.ReLU(),\n",
    "            nn.MaxPool2d (2, 2) # output: 64 × 16 × 16\n",
    "        )\n",
    "        self. conv2 = nn. Sequential (\n",
    "            nn.Conv2d (64, 128, kernel_size=3, padding=1),\n",
    "            nn.ReLU(),\n",
    "            nn.Conv2d (128, 128, kernel_size=3, stride=1, padding=1),\n",
    "            nn.ReLU(),\n",
    "            nn.MaxPool2d (2, 2) # output: 64 × 16 × 16\n",
    "        )\n",
    "        self. conv3 = nn. Sequential (\n",
    "            nn.Conv2d (128, 256, kernel_size=3, padding=1),\n",
    "            nn.ReLU(),\n",
    "            nn.Conv2d (256, 256, kernel_size=3, stride=1, padding=1),\n",
    "            nn.ReLU(),\n",
    "            nn.MaxPool2d (2, 2) # output: 64 × 16 × 16\n",
    "        )\n",
    "    #仝𨑳层\n",
    "        self. dense = nn. Sequential (\n",
    "            nn.Linear (256*4*4, 1024),\n",
    "            nn.ReLU(),\n",
    "            nn.Linear (1024, 512),\n",
    "            nn.ReLU(),\n",
    "            nn.Linear (512, 10)\n",
    "        )\n",
    "\n",
    "    def forward(self,x):\n",
    "        out = self.conv1(x)\n",
    "        out = self.conv2(out)\n",
    "        out = self.conv3(out)\n",
    "        out = out.view(-1,4*4*256)\n",
    "        out = self.dense(out)\n",
    "        return out"
   ]
  },
  {
   "cell_type": "code",
   "execution_count": 17,
   "metadata": {},
   "outputs": [],
   "source": [
    "torch.cuda.set_device(0)\n",
    "model = Net().cuda()"
   ]
  },
  {
   "attachments": {},
   "cell_type": "markdown",
   "metadata": {
    "collapsed": false
   },
   "source": [
    "#### 模型结构可视化"
   ]
  },
  {
   "cell_type": "code",
   "execution_count": 19,
   "metadata": {
    "ExecuteTime": {
     "end_time": "2023-04-10T13:59:32.680720Z",
     "start_time": "2023-04-10T13:59:32.523720Z"
    },
    "collapsed": false
   },
   "outputs": [],
   "source": [
    "input_to_model = torch.rand(1, 3, 32, 32).cuda()\n",
    "writer.add_graph(model, input_to_model)"
   ]
  },
  {
   "attachments": {},
   "cell_type": "markdown",
   "metadata": {
    "collapsed": false
   },
   "source": [
    "#### 图像样本可视化"
   ]
  },
  {
   "cell_type": "code",
   "execution_count": 20,
   "metadata": {
    "ExecuteTime": {
     "end_time": "2023-04-10T14:15:39.144890Z",
     "start_time": "2023-04-10T14:15:39.129890Z"
    },
    "collapsed": false
   },
   "outputs": [],
   "source": [
    "train_transform = transforms.Compose([\n",
    "    transforms.ToTensor(),\n",
    "    transforms.RandomHorizontalFlip(),\n",
    "    transforms.RandomRotation(10),\n",
    "    transforms.RandomAffine(0,shear=10,scale=(0.8,1.2)),\n",
    "    transforms.ColorJitter(brightness=0.2,contrast=0.2,hue=0.2)\n",
    "    #随机改变一个图像的亮度、对比度、饱和度和色调\n",
    "])\n",
    "test_transform = transforms.Compose([\n",
    "    transforms.ToTensor()\n",
    "])"
   ]
  },
  {
   "cell_type": "code",
   "execution_count": 21,
   "metadata": {
    "ExecuteTime": {
     "end_time": "2023-04-10T14:24:05.207946Z",
     "start_time": "2023-04-10T14:23:44.595227Z"
    },
    "collapsed": false
   },
   "outputs": [
    {
     "name": "stdout",
     "output_type": "stream",
     "text": [
      "Files already downloaded and verified\n",
      "Files already downloaded and verified\n"
     ]
    }
   ],
   "source": [
    "train_data = torchvision.datasets.CIFAR10(\n",
    "    root = './data/CIFAR10',\n",
    "    train=True,\n",
    "    download=True,\n",
    "    transform=train_transform\n",
    ")\n",
    "train_loader = torch.utils.data.DataLoader(train_data, batch_size=64, shuffle=True)\n",
    "test_data = torchvision.datasets.CIFAR10(\n",
    "    root = './data/CIFAR10',\n",
    "    train=False,\n",
    "    download=True,\n",
    "    transform=test_transform\n",
    ")\n",
    "test_loader = torch.utils.data.DataLoader(test_data, batch_size=64, shuffle=True)"
   ]
  },
  {
   "cell_type": "code",
   "execution_count": 22,
   "metadata": {
    "ExecuteTime": {
     "end_time": "2023-04-10T14:24:48.008285Z",
     "start_time": "2023-04-10T14:24:47.957286Z"
    },
    "collapsed": false
   },
   "outputs": [],
   "source": [
    "images,labels=next(iter(test_loader))"
   ]
  },
  {
   "attachments": {},
   "cell_type": "markdown",
   "metadata": {
    "collapsed": false
   },
   "source": [
    "##### 单张图片可视化"
   ]
  },
  {
   "cell_type": "code",
   "execution_count": 23,
   "metadata": {
    "ExecuteTime": {
     "end_time": "2023-04-10T14:25:46.101238Z",
     "start_time": "2023-04-10T14:25:46.057194Z"
    },
    "collapsed": false
   },
   "outputs": [],
   "source": [
    "writer.add_image('single_sample',images[0])"
   ]
  },
  {
   "attachments": {},
   "cell_type": "markdown",
   "metadata": {
    "collapsed": false
   },
   "source": [
    "##### 多张样本可视化"
   ]
  },
  {
   "cell_type": "code",
   "execution_count": 24,
   "metadata": {
    "ExecuteTime": {
     "end_time": "2023-04-10T14:30:12.470186Z",
     "start_time": "2023-04-10T14:30:12.330186Z"
    },
    "collapsed": false
   },
   "outputs": [],
   "source": [
    "img_grid=torchvision.utils.make_grid(images)\n",
    "writer.add_image('image_grid',img_grid)"
   ]
  },
  {
   "attachments": {},
   "cell_type": "markdown",
   "metadata": {
    "collapsed": false
   },
   "source": [
    "#### 训练过程可视化"
   ]
  },
  {
   "cell_type": "code",
   "execution_count": 26,
   "metadata": {
    "collapsed": false
   },
   "outputs": [
    {
     "name": "stdout",
     "output_type": "stream",
     "text": [
      "Epoch 1/20\n",
      " Train Loss: 1.801, Train Acc: 32.65%\n",
      " Test Loss: 1.406, Test Acc: 47.43%\n",
      "Epoch 2/20\n",
      " Train Loss: 1.370, Train Acc: 50.30%\n",
      " Test Loss: 1.244, Test Acc: 54.85%\n",
      "Epoch 3/20\n",
      " Train Loss: 1.164, Train Acc: 58.26%\n",
      " Test Loss: 1.041, Test Acc: 62.61%\n",
      "Epoch 4/20\n",
      " Train Loss: 1.026, Train Acc: 63.56%\n",
      " Test Loss: 0.879, Test Acc: 69.54%\n",
      "Epoch 5/20\n",
      " Train Loss: 0.933, Train Acc: 67.40%\n",
      " Test Loss: 0.803, Test Acc: 71.87%\n",
      "Epoch 6/20\n",
      " Train Loss: 0.862, Train Acc: 69.64%\n",
      " Test Loss: 0.759, Test Acc: 74.04%\n",
      "Epoch 7/20\n",
      " Train Loss: 0.810, Train Acc: 71.51%\n",
      " Test Loss: 0.690, Test Acc: 75.87%\n",
      "Epoch 8/20\n",
      " Train Loss: 0.779, Train Acc: 72.74%\n",
      " Test Loss: 0.689, Test Acc: 76.64%\n",
      "Epoch 9/20\n",
      " Train Loss: 0.738, Train Acc: 74.05%\n",
      " Test Loss: 0.664, Test Acc: 77.18%\n",
      "Epoch 10/20\n",
      " Train Loss: 0.716, Train Acc: 74.99%\n",
      " Test Loss: 0.646, Test Acc: 78.05%\n",
      "Epoch 11/20\n",
      " Train Loss: 0.688, Train Acc: 75.82%\n",
      " Test Loss: 0.630, Test Acc: 78.52%\n",
      "Epoch 12/20\n",
      " Train Loss: 0.667, Train Acc: 76.60%\n",
      " Test Loss: 0.640, Test Acc: 78.84%\n",
      "Epoch 13/20\n",
      " Train Loss: 0.653, Train Acc: 77.09%\n",
      " Test Loss: 0.620, Test Acc: 78.92%\n",
      "Epoch 14/20\n",
      " Train Loss: 0.634, Train Acc: 77.87%\n",
      " Test Loss: 0.665, Test Acc: 78.29%\n",
      "Epoch 15/20\n",
      " Train Loss: 0.618, Train Acc: 78.41%\n",
      " Test Loss: 0.621, Test Acc: 79.38%\n",
      "Epoch 16/20\n",
      " Train Loss: 0.600, Train Acc: 79.15%\n",
      " Test Loss: 0.626, Test Acc: 79.71%\n",
      "Epoch 17/20\n",
      " Train Loss: 0.591, Train Acc: 79.41%\n",
      " Test Loss: 0.583, Test Acc: 80.81%\n",
      "Epoch 18/20\n",
      " Train Loss: 0.577, Train Acc: 79.89%\n",
      " Test Loss: 0.616, Test Acc: 79.74%\n",
      "Epoch 19/20\n",
      " Train Loss: 0.563, Train Acc: 80.27%\n",
      " Test Loss: 0.575, Test Acc: 81.00%\n",
      "Epoch 20/20\n",
      " Train Loss: 0.555, Train Acc: 80.67%\n",
      " Test Loss: 0.590, Test Acc: 80.90%\n"
     ]
    }
   ],
   "source": [
    "criterion = nn.CrossEntropyLoss()\n",
    "optimizer = optim.Adam(model.parameters(),lr=0.001)\n",
    "scheduler = torch.optim.lr_scheduler.ExponentialLR(optimizer,gamma=0.9)\n",
    "EPOCHS=20\n",
    "for epoch in range(EPOCHS):\n",
    "    train_loss=test_loss=0\n",
    "    train_acc=test_acc=0\n",
    "    num_correct=0\n",
    "\n",
    "    model.train()\n",
    "    print(\"Epoch {}/{}\".format(epoch+1, EPOCHS))\n",
    "    for data in train_loader:\n",
    "        train_img, train_label = data# 数据送入定义好的模型\n",
    "        train_img=train_img.cuda()\n",
    "        train_label=train_label.cuda()\n",
    "        train_img = torch.autograd.Variable(train_img)\n",
    "        train_label = torch.autograd.Variable(train_label)\n",
    "        train_out = model(train_img).cuda()#输出放回CPU计算\n",
    "        optimizer.zero_grad()\n",
    "        training_loss = criterion(train_out, train_label)\n",
    "        training_loss.backward()# 反向传播\n",
    "        optimizer.step()\n",
    "        train_loss += training_loss.data.float()\n",
    "        _,train_pred = torch.max(train_out.data,1)#第1维度上的最大值，pred为标签序号\n",
    "        num_correct+=torch.sum(train_pred==train_label.data)\n",
    "    train_loss=train_loss/len(train_loader)\n",
    "    train_acc=100*num_correct/len(train_data)\n",
    "    print(' Train Loss: {:.3f}, Train Acc: {:.2f}%'.format(train_loss, train_acc))\n",
    "\n",
    "    model.eval()\n",
    "    num_correct=0 #初始化为0避免被训练过程影响\n",
    "    for i, (datas, labels) in enumerate(test_loader):\n",
    "        test_img, test_label = datas,labels# 数据送入定义好的模型\n",
    "        test_img = torch.autograd.Variable(test_img).cuda()\n",
    "        test_label = torch.autograd.Variable(test_label).cuda()\n",
    "        test_out = model(test_img).cuda()\n",
    "        testing_loss = criterion(test_out, test_label)\n",
    "        test_loss += testing_loss.data.float()\n",
    "        _,test_pred = test_out.max(1)\n",
    "        num_correct+=torch.sum(test_pred==test_label.data)\n",
    "    test_loss=test_loss/len(test_loader)\n",
    "    test_acc=100*num_correct/len(test_data)\n",
    "    print(' Test Loss: {:.3f}, Test Acc: {:.2f}%'.format(test_loss, test_acc))\n",
    "    \n",
    "    writer.add_scalars('loss', \n",
    "                       {'train_loss':train_loss, 'test_loss': test_loss},\n",
    "                       epoch)\n",
    "    writer.add_scalars('accuracy', \n",
    "                        {'train_accuracy': train_acc, 'test_accuracy': test_acc}, \n",
    "                        epoch)"
   ]
  },
  {
   "cell_type": "code",
   "execution_count": null,
   "metadata": {},
   "outputs": [],
   "source": []
  }
 ],
 "metadata": {
  "kernelspec": {
   "display_name": "Python 3",
   "language": "python",
   "name": "python3"
  },
  "language_info": {
   "codemirror_mode": {
    "name": "ipython",
    "version": 3
   },
   "file_extension": ".py",
   "mimetype": "text/x-python",
   "name": "python",
   "nbconvert_exporter": "python",
   "pygments_lexer": "ipython3",
   "version": "3.7.0"
  }
 },
 "nbformat": 4,
 "nbformat_minor": 0
}
