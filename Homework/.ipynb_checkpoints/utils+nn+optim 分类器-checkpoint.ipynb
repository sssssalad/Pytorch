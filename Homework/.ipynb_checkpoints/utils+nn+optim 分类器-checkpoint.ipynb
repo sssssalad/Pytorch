{
 "cells": [
  {
   "cell_type": "code",
   "execution_count": 1,
   "metadata": {
    "ExecuteTime": {
     "end_time": "2023-03-13T13:58:33.789194Z",
     "start_time": "2023-03-13T13:58:31.793044Z"
    }
   },
   "outputs": [],
   "source": [
    "import torchvision\n",
    "import torch\n",
    "from torchvision import datasets, transforms\n",
    "from torch.autograd import Variable\n",
    "import torch.optim as optim\n",
    "import time\n",
    "from torch.utils.data.dataloader import DataLoader"
   ]
  },
  {
   "cell_type": "code",
   "execution_count": 2,
   "metadata": {
    "ExecuteTime": {
     "end_time": "2023-03-13T13:58:33.804785Z",
     "start_time": "2023-03-13T13:58:33.789194Z"
    }
   },
   "outputs": [],
   "source": [
    "transform = transforms.Compose([transforms.ToTensor(),\n",
    "                               transforms.Normalize((0.5,),(0.5,))])"
   ]
  },
  {
   "cell_type": "code",
   "execution_count": 3,
   "metadata": {
    "ExecuteTime": {
     "end_time": "2023-03-13T13:58:33.882757Z",
     "start_time": "2023-03-13T13:58:33.806825Z"
    }
   },
   "outputs": [],
   "source": [
    "#下载数据集\n",
    "train_set = datasets.FashionMNIST(root = \"data\",\n",
    "                            transform=transform,\n",
    "                            train = True,\n",
    "                            download = True)\n",
    " \n",
    "test_set = datasets.FashionMNIST(root=\"data\",\n",
    "                           transform = transform,\n",
    "                           train = False,\n",
    "                           download = False)"
   ]
  },
  {
   "cell_type": "code",
   "execution_count": 12,
   "metadata": {
    "ExecuteTime": {
     "end_time": "2023-03-13T14:11:51.509979Z",
     "start_time": "2023-03-13T14:11:51.486242Z"
    }
   },
   "outputs": [
    {
     "name": "stdout",
     "output_type": "stream",
     "text": [
      "train_data: torch.Size([60000, 28, 28])\n",
      "train_labels: torch.Size([60000])\n",
      "test_data: torch.Size([10000, 28, 28])\n",
      "test_labels: torch.Size([10000])\n"
     ]
    },
    {
     "name": "stderr",
     "output_type": "stream",
     "text": [
      "D:\\Anaconda\\lib\\site-packages\\torchvision\\datasets\\mnist.py:62: UserWarning: train_data has been renamed data\n",
      "  warnings.warn(\"train_data has been renamed data\")\n",
      "D:\\Anaconda\\lib\\site-packages\\torchvision\\datasets\\mnist.py:52: UserWarning: train_labels has been renamed targets\n",
      "  warnings.warn(\"train_labels has been renamed targets\")\n",
      "D:\\Anaconda\\lib\\site-packages\\torchvision\\datasets\\mnist.py:67: UserWarning: test_data has been renamed data\n",
      "  warnings.warn(\"test_data has been renamed data\")\n",
      "D:\\Anaconda\\lib\\site-packages\\torchvision\\datasets\\mnist.py:57: UserWarning: test_labels has been renamed targets\n",
      "  warnings.warn(\"test_labels has been renamed targets\")\n"
     ]
    }
   ],
   "source": [
    "print(\"train_data:\", train_set.train_data.size())\n",
    "print(\"train_labels:\", train_set.train_labels.size())\n",
    "print(\"test_data:\", test_set.test_data.size())\n",
    "print(\"test_labels:\", test_set.test_labels.size())"
   ]
  },
  {
   "cell_type": "code",
   "execution_count": 5,
   "metadata": {
    "ExecuteTime": {
     "end_time": "2023-03-13T13:58:33.914811Z",
     "start_time": "2023-03-13T13:58:33.898765Z"
    }
   },
   "outputs": [],
   "source": [
    "#装载数据\n",
    "train_loader = DataLoader(dataset=train_set, batch_size = 256, shuffle = True)\n",
    " \n",
    "test_loader = DataLoader(dataset=test_set, batch_size = 256, shuffle = True)"
   ]
  },
  {
   "cell_type": "code",
   "execution_count": 6,
   "metadata": {
    "ExecuteTime": {
     "end_time": "2023-03-13T13:58:33.932541Z",
     "start_time": "2023-03-13T13:58:33.914811Z"
    }
   },
   "outputs": [],
   "source": [
    "batch_size=256"
   ]
  },
  {
   "cell_type": "code",
   "execution_count": 7,
   "metadata": {
    "ExecuteTime": {
     "end_time": "2023-03-13T13:58:33.948685Z",
     "start_time": "2023-03-13T13:58:33.932541Z"
    }
   },
   "outputs": [],
   "source": [
    "class Model(torch.nn.Module):\n",
    "    def __init__(self):\n",
    "        super(Model,self).__init__()\n",
    "        \n",
    "        self.linear1=torch.nn.Linear(784,512)\n",
    "        self.relu=torch.nn.ReLU()\n",
    "        self.linear2=torch.nn.Linear(512,512) \n",
    "        self.relu2=torch.nn.ReLU()\n",
    "        self.linear3=torch.nn.Linear(512,10)\n",
    "  \n",
    "    def forward(self, x):\n",
    "        x = self.linear1(x)\n",
    "        x = self.relu(x)\n",
    "        x = self.linear2(x)\n",
    "        x = self.relu2(x)\n",
    "        x = self.linear3(x)\n",
    "        return x"
   ]
  },
  {
   "cell_type": "code",
   "execution_count": 8,
   "metadata": {
    "ExecuteTime": {
     "end_time": "2023-03-13T13:58:33.964930Z",
     "start_time": "2023-03-13T13:58:33.949184Z"
    }
   },
   "outputs": [],
   "source": [
    "model=Model()\n",
    "loss_function = torch.nn.CrossEntropyLoss()\n",
    "optimizer = torch.optim.Adam(model.parameters())"
   ]
  },
  {
   "cell_type": "code",
   "execution_count": 9,
   "metadata": {
    "ExecuteTime": {
     "end_time": "2023-03-13T14:04:25.290412Z",
     "start_time": "2023-03-13T13:58:33.964930Z"
    }
   },
   "outputs": [
    {
     "name": "stdout",
     "output_type": "stream",
     "text": [
      "Epoch 1/20\n",
      "Train loss:0.521,Train ACC:81.210%\n",
      "Epoch 2/20\n",
      "Train loss:0.362,Train ACC:86.685%\n",
      "Epoch 3/20\n",
      "Train loss:0.329,Train ACC:87.915%\n",
      "Epoch 4/20\n",
      "Train loss:0.302,Train ACC:88.750%\n",
      "Epoch 5/20\n",
      "Train loss:0.282,Train ACC:89.480%\n",
      "Epoch 6/20\n",
      "Train loss:0.265,Train ACC:90.130%\n",
      "Epoch 7/20\n",
      "Train loss:0.253,Train ACC:90.532%\n",
      "Epoch 8/20\n",
      "Train loss:0.237,Train ACC:91.097%\n",
      "Epoch 9/20\n",
      "Train loss:0.224,Train ACC:91.677%\n",
      "Epoch 10/20\n",
      "Train loss:0.209,Train ACC:92.253%\n",
      "Epoch 11/20\n",
      "Train loss:0.201,Train ACC:92.397%\n",
      "Epoch 12/20\n",
      "Train loss:0.187,Train ACC:92.923%\n",
      "Epoch 13/20\n",
      "Train loss:0.180,Train ACC:93.255%\n",
      "Epoch 14/20\n",
      "Train loss:0.170,Train ACC:93.565%\n",
      "Epoch 15/20\n",
      "Train loss:0.160,Train ACC:93.970%\n",
      "Epoch 16/20\n",
      "Train loss:0.154,Train ACC:94.203%\n",
      "Epoch 17/20\n",
      "Train loss:0.146,Train ACC:94.517%\n",
      "Epoch 18/20\n",
      "Train loss:0.132,Train ACC:94.970%\n",
      "Epoch 19/20\n",
      "Train loss:0.129,Train ACC:95.035%\n",
      "Epoch 20/20\n",
      "Train loss:0.122,Train ACC:95.307%\n"
     ]
    }
   ],
   "source": [
    "epochs = 20\n",
    "for epoch in range(epochs) :\n",
    "    sum_loss=0\n",
    "    train_correct=0\n",
    "    print(\"Epoch {}/{}\".format(epoch+1, epochs))\n",
    "    for data in train_loader:\n",
    "        inputs,labels=data #inputs 维度：[256,1,28,28],labels:[256]\n",
    "        inputs=torch.flatten(inputs,start_dim=1) #展平数据，转化为[256,784]\n",
    "        outputs=model(inputs)#[256,10]\n",
    "        optimizer.zero_grad()\n",
    "        loss=loss_function(outputs,labels)\n",
    "        loss.backward()\n",
    "        optimizer.step()\n",
    " \n",
    "        _,id=torch.max(outputs.data,1)\n",
    "        sum_loss+=loss.data\n",
    "        train_correct+=torch.sum(id==labels.data)\n",
    "    print('Train loss:{:.3f},Train ACC:{:.3f}%' .format(sum_loss / len(train_loader),100 * train_correct / len(train_set)))"
   ]
  },
  {
   "cell_type": "code",
   "execution_count": 20,
   "metadata": {
    "ExecuteTime": {
     "end_time": "2023-03-13T14:42:57.507948Z",
     "start_time": "2023-03-13T14:42:55.023606Z"
    }
   },
   "outputs": [
    {
     "name": "stdout",
     "output_type": "stream",
     "text": [
      "Test ACC:88.740%\n"
     ]
    }
   ],
   "source": [
    "model.eval()\n",
    "test_correct = 0\n",
    "for data in test_loader :\n",
    "    inputs,lables = data#96?\n",
    "    inputs=torch.flatten(inputs,start_dim=1) #[256,784]\n",
    "    outputs = model(inputs)#[256,10]\n",
    "    _, id = torch.max(outputs.data, 1)\n",
    "    test_correct += torch.sum(id == lables.data)\n",
    "print('Test ACC:{:.3f}%' .format(100 * test_correct / len(test_set)))"
   ]
  },
  {
   "cell_type": "code",
   "execution_count": null,
   "metadata": {},
   "outputs": [],
   "source": []
  }
 ],
 "metadata": {
  "kernelspec": {
   "display_name": "Python 3",
   "language": "python",
   "name": "python3"
  },
  "language_info": {
   "codemirror_mode": {
    "name": "ipython",
    "version": 3
   },
   "file_extension": ".py",
   "mimetype": "text/x-python",
   "name": "python",
   "nbconvert_exporter": "python",
   "pygments_lexer": "ipython3",
   "version": "3.7.0"
  }
 },
 "nbformat": 4,
 "nbformat_minor": 2
}
