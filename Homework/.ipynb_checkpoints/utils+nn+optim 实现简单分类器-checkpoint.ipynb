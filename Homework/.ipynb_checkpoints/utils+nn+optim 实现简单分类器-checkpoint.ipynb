{
 "cells": [
  {
   "cell_type": "code",
   "execution_count": 1,
   "metadata": {
    "ExecuteTime": {
     "end_time": "2023-04-02T12:45:02.694596Z",
     "start_time": "2023-04-02T12:45:00.805318Z"
    }
   },
   "outputs": [],
   "source": [
    "import torch\n",
    "import torchvision\n",
    "import torch.nn as nn\n",
    "import torch.optim as optim\n",
    "import torch.nn.functional as F\n",
    "from torchvision import transforms\n",
    "from torchvision import datasets\n",
    "from torch.utils.data.dataloader import DataLoader"
   ]
  },
  {
   "cell_type": "markdown",
   "metadata": {},
   "source": [
    "### 3.1 数据集加载+预处理"
   ]
  },
  {
   "cell_type": "code",
   "execution_count": 2,
   "metadata": {
    "ExecuteTime": {
     "end_time": "2023-04-02T12:45:02.710596Z",
     "start_time": "2023-04-02T12:45:02.696599Z"
    }
   },
   "outputs": [],
   "source": [
    "batch_size=256"
   ]
  },
  {
   "cell_type": "code",
   "execution_count": 3,
   "metadata": {
    "ExecuteTime": {
     "end_time": "2023-04-02T12:45:02.805699Z",
     "start_time": "2023-04-02T12:45:02.714595Z"
    }
   },
   "outputs": [],
   "source": [
    "train_set = datasets.FashionMNIST(\n",
    "    root=\"data\",\n",
    "    train=True,\n",
    "    download=True,\n",
    "    transform=transforms.Compose([\n",
    "        transforms.ToTensor(),# 将数据转为Tensor类型,数据格式torch(C,H,W)，像素值范围【0.0,1.0】\n",
    "        transforms.Normalize([0.5], [0.5])])#均值0.5方差0.5\n",
    ")\n",
    "train_loader=DataLoader(train_set,shuffle=True, batch_size=batch_size)"
   ]
  },
  {
   "cell_type": "code",
   "execution_count": 4,
   "metadata": {
    "ExecuteTime": {
     "end_time": "2023-04-02T12:45:02.837701Z",
     "start_time": "2023-04-02T12:45:02.807700Z"
    }
   },
   "outputs": [],
   "source": [
    "test_set = datasets.FashionMNIST(\n",
    "    root=\"data\",\n",
    "    train=False,\n",
    "    download=True,\n",
    "    transform=transforms.Compose([\n",
    "        transforms.ToTensor(),# 将数据转为Tensor类型,数据格式torch(C,H,W)，像素值范围【0.0,1.0】\n",
    "        transforms.Normalize([0.5], [0.5])])#均值0.5方差0.5\n",
    ")\n",
    "test_loader=DataLoader(test_set,shuffle=True, batch_size=batch_size)"
   ]
  },
  {
   "cell_type": "code",
   "execution_count": 5,
   "metadata": {
    "ExecuteTime": {
     "end_time": "2023-04-02T12:45:02.853711Z",
     "start_time": "2023-04-02T12:45:02.839700Z"
    }
   },
   "outputs": [
    {
     "name": "stdout",
     "output_type": "stream",
     "text": [
      "train_data: torch.Size([60000, 28, 28])\n",
      "train_labels: torch.Size([60000])\n",
      "test_data: torch.Size([10000, 28, 28])\n"
     ]
    },
    {
     "name": "stderr",
     "output_type": "stream",
     "text": [
      "D:\\Anaconda\\lib\\site-packages\\torchvision\\datasets\\mnist.py:62: UserWarning: train_data has been renamed data\n",
      "  warnings.warn(\"train_data has been renamed data\")\n",
      "D:\\Anaconda\\lib\\site-packages\\torchvision\\datasets\\mnist.py:52: UserWarning: train_labels has been renamed targets\n",
      "  warnings.warn(\"train_labels has been renamed targets\")\n",
      "D:\\Anaconda\\lib\\site-packages\\torchvision\\datasets\\mnist.py:67: UserWarning: test_data has been renamed data\n",
      "  warnings.warn(\"test_data has been renamed data\")\n"
     ]
    }
   ],
   "source": [
    "print(\"train_data:\", train_set.train_data.size())\n",
    "print(\"train_labels:\", train_set.train_labels.size())\n",
    "print(\"test_data:\", test_set.test_data.size())"
   ]
  },
  {
   "cell_type": "markdown",
   "metadata": {},
   "source": [
    "#### 网络构建"
   ]
  },
  {
   "cell_type": "code",
   "execution_count": 6,
   "metadata": {
    "ExecuteTime": {
     "end_time": "2023-04-02T12:45:02.869705Z",
     "start_time": "2023-04-02T12:45:02.856706Z"
    }
   },
   "outputs": [],
   "source": [
    "class Model(nn.Module):\n",
    "    def __init__(self,inputs,outputs):\n",
    "        super(Model,self).__init__()\n",
    "        self.hidden1=nn.Linear(784,512)\n",
    "        self.hidden2=nn.Linear(512,512)\n",
    "        self.output=nn.Linear(512,10)\n",
    "    \n",
    "    def forward(self,x):\n",
    "        x=F.relu(self.hidden1(x))\n",
    "        x=F.relu(self.hidden2(x))\n",
    "        out=self.output(x)\n",
    "        return out\n",
    "    \n",
    "model=Model(784,10)"
   ]
  },
  {
   "cell_type": "markdown",
   "metadata": {},
   "source": [
    "### 3.3 损失函数和优化器"
   ]
  },
  {
   "cell_type": "code",
   "execution_count": 7,
   "metadata": {
    "ExecuteTime": {
     "end_time": "2023-04-02T12:45:02.885700Z",
     "start_time": "2023-04-02T12:45:02.873710Z"
    }
   },
   "outputs": [],
   "source": [
    "criterion = nn.CrossEntropyLoss()#交叉熵损失\n",
    "optimizer = optim.AdamW(model.parameters())"
   ]
  },
  {
   "cell_type": "markdown",
   "metadata": {},
   "source": [
    "### 3.4 训练模型"
   ]
  },
  {
   "cell_type": "code",
   "execution_count": 8,
   "metadata": {
    "ExecuteTime": {
     "end_time": "2023-04-02T12:49:54.250226Z",
     "start_time": "2023-04-02T12:45:02.888722Z"
    }
   },
   "outputs": [
    {
     "name": "stdout",
     "output_type": "stream",
     "text": [
      "Epoch 1/20\n",
      " Train Loss: 0.521423, Train Acc: 80.921669%\n",
      "Epoch 2/20\n",
      " Train Loss: 0.365273, Train Acc: 86.574997%\n",
      "Epoch 3/20\n",
      " Train Loss: 0.327439, Train Acc: 88.019997%\n",
      "Epoch 4/20\n",
      " Train Loss: 0.302599, Train Acc: 88.901665%\n",
      "Epoch 5/20\n",
      " Train Loss: 0.278364, Train Acc: 89.716667%\n",
      "Epoch 6/20\n",
      " Train Loss: 0.262175, Train Acc: 90.186668%\n",
      "Epoch 7/20\n",
      " Train Loss: 0.249076, Train Acc: 90.628334%\n",
      "Epoch 8/20\n",
      " Train Loss: 0.233122, Train Acc: 91.224998%\n",
      "Epoch 9/20\n",
      " Train Loss: 0.226596, Train Acc: 91.525002%\n",
      "Epoch 10/20\n",
      " Train Loss: 0.210697, Train Acc: 92.025002%\n",
      "Epoch 11/20\n",
      " Train Loss: 0.201143, Train Acc: 92.513336%\n",
      "Epoch 12/20\n",
      " Train Loss: 0.190069, Train Acc: 92.800003%\n",
      "Epoch 13/20\n",
      " Train Loss: 0.181037, Train Acc: 93.046669%\n",
      "Epoch 14/20\n",
      " Train Loss: 0.172715, Train Acc: 93.449997%\n",
      "Epoch 15/20\n",
      " Train Loss: 0.163770, Train Acc: 93.706665%\n",
      "Epoch 16/20\n",
      " Train Loss: 0.155098, Train Acc: 94.193336%\n",
      "Epoch 17/20\n",
      " Train Loss: 0.146433, Train Acc: 94.551666%\n",
      "Epoch 18/20\n",
      " Train Loss: 0.137705, Train Acc: 94.641670%\n",
      "Epoch 19/20\n",
      " Train Loss: 0.130427, Train Acc: 95.010002%\n",
      "Epoch 20/20\n",
      " Train Loss: 0.126558, Train Acc: 95.293335%\n"
     ]
    }
   ],
   "source": [
    "EPOCHS=20\n",
    "for epoch in range(EPOCHS):\n",
    "    train_loss=0\n",
    "    num_correct=0\n",
    "    train_acc=0\n",
    "    print(\"Epoch {}/{}\".format(epoch+1, EPOCHS))\n",
    "    for data in train_loader:\n",
    "        img, label = data# 数据送入定义好的模型\n",
    "        \n",
    "        img=torch.flatten(img,start_dim=1) #展平数据，转化为[256,784]\n",
    "        img = torch.autograd.Variable(img)\n",
    "        label = torch.autograd.Variable(label)\n",
    "        \n",
    "        out = model(img)\n",
    "        optimizer.zero_grad()\n",
    "        loss = criterion(out, label)\n",
    "        loss.backward()# 反向传播\n",
    "        optimizer.step()\n",
    "        \n",
    "        train_loss += loss.data\n",
    "        _,pred = torch.max(out.data,1)#第1维度上的最大值，pred为标签序号\n",
    "        num_correct+=torch.sum(pred==label.data)\n",
    "    print(' Train Loss: {:.6f}, Train Acc: {:.6f}%'.format(train_loss/len(train_loader), 100*num_correct/len(train_set)))"
   ]
  },
  {
   "cell_type": "markdown",
   "metadata": {},
   "source": [
    "#### 模型评估"
   ]
  },
  {
   "cell_type": "code",
   "execution_count": 10,
   "metadata": {
    "ExecuteTime": {
     "end_time": "2023-04-02T12:51:54.638322Z",
     "start_time": "2023-04-02T12:51:21.517017Z"
    }
   },
   "outputs": [
    {
     "name": "stdout",
     "output_type": "stream",
     "text": [
      "Epoch 1/20\n",
      "Test Loss: 0.381978,Test Acc: 89.260002%\n",
      "Epoch 2/20\n",
      "Test Loss: 0.382553,Test Acc: 89.260002%\n",
      "Epoch 3/20\n",
      "Test Loss: 0.376652,Test Acc: 89.260002%\n",
      "Epoch 4/20\n",
      "Test Loss: 0.369521,Test Acc: 89.260002%\n",
      "Epoch 5/20\n",
      "Test Loss: 0.384391,Test Acc: 89.260002%\n",
      "Epoch 6/20\n",
      "Test Loss: 0.383326,Test Acc: 89.260002%\n",
      "Epoch 7/20\n",
      "Test Loss: 0.397584,Test Acc: 89.260002%\n",
      "Epoch 8/20\n",
      "Test Loss: 0.384324,Test Acc: 89.260002%\n",
      "Epoch 9/20\n",
      "Test Loss: 0.371243,Test Acc: 89.260002%\n",
      "Epoch 10/20\n",
      "Test Loss: 0.377408,Test Acc: 89.260002%\n",
      "Epoch 11/20\n",
      "Test Loss: 0.369015,Test Acc: 89.260002%\n",
      "Epoch 12/20\n",
      "Test Loss: 0.376843,Test Acc: 89.260002%\n",
      "Epoch 13/20\n",
      "Test Loss: 0.379978,Test Acc: 89.260002%\n",
      "Epoch 14/20\n",
      "Test Loss: 0.384850,Test Acc: 89.260002%\n",
      "Epoch 15/20\n",
      "Test Loss: 0.376936,Test Acc: 89.260002%\n",
      "Epoch 16/20\n",
      "Test Loss: 0.372023,Test Acc: 89.260002%\n",
      "Epoch 17/20\n",
      "Test Loss: 0.369902,Test Acc: 89.260002%\n",
      "Epoch 18/20\n",
      "Test Loss: 0.376379,Test Acc: 89.260002%\n",
      "Epoch 19/20\n",
      "Test Loss: 0.387558,Test Acc: 89.260002%\n",
      "Epoch 20/20\n",
      "Test Loss: 0.379195,Test Acc: 89.260002%\n"
     ]
    }
   ],
   "source": [
    "model.eval()\n",
    "for epoch in range(EPOCHS):\n",
    "    test_loss=0#初始化\n",
    "    test_acc=0\n",
    "    print(\"Epoch {}/{}\".format(epoch+1, EPOCHS))\n",
    "    for i, (datas, labels) in enumerate(test_loader):\n",
    "        img, label = datas,labels# 数据送入定义好的模型\n",
    "        img = img.view(img.size(0), -1) # 改变数据的size，变成784*1\n",
    "        img = torch.autograd.Variable(img)\n",
    "        label = torch.autograd.Variable(label)\n",
    "        out = model(img)\n",
    "        loss = criterion(out, label)\n",
    "        test_loss += loss.data\n",
    "        _,pred = out.max(1)\n",
    "        test_acc+=torch.sum(pred==label.data)\n",
    "    print('Test Loss: {:.6f},Test Acc: {:.6f}%'.format( test_loss/len(test_loader),\n",
    "                                                       100*test_acc/len(test_set)))"
   ]
  },
  {
   "cell_type": "markdown",
   "metadata": {},
   "source": [
    "对变量进行变换时要留意之前是否对其有定义，要对其进行初始化后再运算\n",
    "\n",
    "进行矩阵的运算时矩阵的size要对上，可中断设置输出点检查"
   ]
  }
 ],
 "metadata": {
  "kernelspec": {
   "display_name": "Python 3",
   "language": "python",
   "name": "python3"
  },
  "language_info": {
   "codemirror_mode": {
    "name": "ipython",
    "version": 3
   },
   "file_extension": ".py",
   "mimetype": "text/x-python",
   "name": "python",
   "nbconvert_exporter": "python",
   "pygments_lexer": "ipython3",
   "version": "3.7.0"
  }
 },
 "nbformat": 4,
 "nbformat_minor": 2
}
