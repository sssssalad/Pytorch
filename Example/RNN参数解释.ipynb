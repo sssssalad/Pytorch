{
 "cells": [
  {
   "cell_type": "code",
   "execution_count": 2,
   "id": "4baa2b00",
   "metadata": {},
   "outputs": [
    {
     "name": "stdout",
     "output_type": "stream",
     "text": [
      "torch.Size([4, 32, 6])\n",
      "torch.Size([2, 32, 6])\n"
     ]
    }
   ],
   "source": [
    "import torch\n",
    "import torch.nn as nn\n",
    " \n",
    "# RNN模型\n",
    "'''\n",
    "第一个参数：input_size(输入张量x的维度)\n",
    "第二个参数：hidden_size（隐藏层维度，隐藏层的神经元个数）\n",
    "第三个参数：num_layer(隐藏层的数量)\n",
    "'''\n",
    "rnn = nn.RNN(3, 6, 2)\n",
    "'''\n",
    "第一个参数：sequence_length(输入序列长度)\n",
    "其中sequence_length代表时间步，代表了RNN内部的细胞数量\n",
    "第二个参数：batch_size(批次的样本数量)\n",
    "第三个参数：input_size(输入张量的维度)\n",
    "'''\n",
    "input = torch.randn(4, 32, 3)\n",
    "'''\n",
    "第一个参数：num_layer * num_direction(层数*网络方向）\n",
    "第二个参数：batch_size(批次的样本数)\n",
    "第三个参数：hidden_size(隐藏层的维度， 隐藏层神经元的个数)\n",
    "'''\n",
    "h0 = torch.randn(2, 32, 6)\n",
    "output, hn = rnn(input, h0)\n",
    "\n",
    "print(output.shape)\n",
    "print(hn.shape)"
   ]
  },
  {
   "cell_type": "code",
   "execution_count": null,
   "id": "10b62e22",
   "metadata": {},
   "outputs": [],
   "source": []
  }
 ],
 "metadata": {
  "kernelspec": {
   "display_name": "Python 3 (ipykernel)",
   "language": "python",
   "name": "python3"
  },
  "language_info": {
   "codemirror_mode": {
    "name": "ipython",
    "version": 3
   },
   "file_extension": ".py",
   "mimetype": "text/x-python",
   "name": "python",
   "nbconvert_exporter": "python",
   "pygments_lexer": "ipython3",
   "version": "3.9.13"
  }
 },
 "nbformat": 4,
 "nbformat_minor": 5
}
