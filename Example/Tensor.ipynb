{
 "cells": [
  {
   "attachments": {},
   "cell_type": "markdown",
   "id": "20be3c1b",
   "metadata": {},
   "source": [
    "# Tensor"
   ]
  },
  {
   "cell_type": "code",
   "execution_count": 2,
   "id": "0a39e7a8",
   "metadata": {},
   "outputs": [],
   "source": [
    "import torch \n",
    "import numpy as np\n",
    "import time\n",
    "import random"
   ]
  },
  {
   "cell_type": "code",
   "execution_count": 2,
   "id": "abd006b6",
   "metadata": {},
   "outputs": [
    {
     "data": {
      "text/plain": [
       "'1.13.0+cu117'"
      ]
     },
     "execution_count": 2,
     "metadata": {},
     "output_type": "execute_result"
    }
   ],
   "source": [
    "# https://pytorch.org/\n",
    "torch.__version__ # 查看pytorch版本"
   ]
  },
  {
   "attachments": {},
   "cell_type": "markdown",
   "id": "c9c8836d",
   "metadata": {},
   "source": [
    "## 张量创建"
   ]
  },
  {
   "cell_type": "code",
   "execution_count": 6,
   "id": "c2e04d83",
   "metadata": {},
   "outputs": [
    {
     "name": "stdout",
     "output_type": "stream",
     "text": [
      "tensor([[0., 0.],\n",
      "        [0., 0.]])\n",
      "tensor([[1., 2.],\n",
      "        [3., 4.]])\n",
      "torch.FloatTensor\n",
      "torch.float32\n",
      "torch.FloatTensor\n",
      "torch.float32\n"
     ]
    }
   ],
   "source": [
    "# torch.Tensor是torch.Tensor类的构造函数，使用全局默认dtype(FloatTensor)\n",
    "a = torch.Tensor(2,2)\n",
    "b = torch.Tensor([[1,2],[3,4]])\n",
    "print(a)\n",
    "print(b)\n",
    "print(a.type())\n",
    "print(a.dtype)\n",
    "print(b.type())\n",
    "print(b.dtype)"
   ]
  },
  {
   "cell_type": "code",
   "execution_count": 5,
   "id": "316aebec",
   "metadata": {},
   "outputs": [
    {
     "name": "stdout",
     "output_type": "stream",
     "text": [
      "tensor([[1, 2],\n",
      "        [3, 4]])\n",
      "torch.LongTensor\n",
      "torch.int64\n"
     ]
    }
   ],
   "source": [
    "# torch.tensor()是一个普通函数\n",
    "a = torch.tensor([[1,2],[3,4]])\n",
    "print(a)\n",
    "print(a.type())\n",
    "print(a.dtype)"
   ]
  },
  {
   "cell_type": "code",
   "execution_count": 5,
   "id": "1b4f9940",
   "metadata": {},
   "outputs": [
    {
     "data": {
      "text/plain": [
       "tensor([[1., 1., 1.],\n",
       "        [1., 1., 1.],\n",
       "        [1., 1., 1.]])"
      ]
     },
     "execution_count": 5,
     "metadata": {},
     "output_type": "execute_result"
    }
   ],
   "source": [
    "torch.ones(3,3)"
   ]
  },
  {
   "cell_type": "code",
   "execution_count": 6,
   "id": "ee0fbe45",
   "metadata": {},
   "outputs": [
    {
     "data": {
      "text/plain": [
       "tensor([[0., 0., 0.],\n",
       "        [0., 0., 0.],\n",
       "        [0., 0., 0.]])"
      ]
     },
     "execution_count": 6,
     "metadata": {},
     "output_type": "execute_result"
    }
   ],
   "source": [
    "torch.zeros(3,3)"
   ]
  },
  {
   "cell_type": "code",
   "execution_count": 7,
   "id": "cbda14da",
   "metadata": {},
   "outputs": [
    {
     "data": {
      "text/plain": [
       "tensor([[1., 0., 0.],\n",
       "        [0., 1., 0.],\n",
       "        [0., 0., 1.]])"
      ]
     },
     "execution_count": 7,
     "metadata": {},
     "output_type": "execute_result"
    }
   ],
   "source": [
    "torch.eye(3,3) #对角为1，其余为0"
   ]
  },
  {
   "cell_type": "code",
   "execution_count": 8,
   "id": "be5f80fe",
   "metadata": {},
   "outputs": [
    {
     "data": {
      "text/plain": [
       "tensor([0.0000, 0.1000, 0.2000, 0.3000, 0.4000, 0.5000, 0.6000, 0.7000, 0.8000,\n",
       "        0.9000])"
      ]
     },
     "execution_count": 8,
     "metadata": {},
     "output_type": "execute_result"
    }
   ],
   "source": [
    "torch.arange(0,1,0.1) #间隔步长"
   ]
  },
  {
   "cell_type": "code",
   "execution_count": 9,
   "id": "455a5b2e",
   "metadata": {},
   "outputs": [
    {
     "data": {
      "text/plain": [
       "tensor([0.0000, 0.5000, 1.0000])"
      ]
     },
     "execution_count": 9,
     "metadata": {},
     "output_type": "execute_result"
    }
   ],
   "source": [
    "torch.linspace(0,1,3) #等分"
   ]
  },
  {
   "cell_type": "code",
   "execution_count": 10,
   "id": "2d1be02d",
   "metadata": {},
   "outputs": [
    {
     "data": {
      "text/plain": [
       "tensor([[0.1664, 0.3571, 0.7323],\n",
       "        [0.3812, 0.2148, 0.3365],\n",
       "        [0.6886, 0.8005, 0.2762]])"
      ]
     },
     "execution_count": 10,
     "metadata": {},
     "output_type": "execute_result"
    }
   ],
   "source": [
    "# (0,1)均匀分布\n",
    "#torch.manual_seed(10)\n",
    "torch.rand(3,3)"
   ]
  },
  {
   "cell_type": "code",
   "execution_count": 11,
   "id": "4d24cfc1",
   "metadata": {},
   "outputs": [
    {
     "data": {
      "text/plain": [
       "tensor([[ 0.3451,  0.9314, -0.9760],\n",
       "        [-0.0545,  0.6617,  0.8082],\n",
       "        [ 0.7776,  0.7376,  1.0511]])"
      ]
     },
     "execution_count": 11,
     "metadata": {},
     "output_type": "execute_result"
    }
   ],
   "source": [
    "torch.randn(3,3)"
   ]
  },
  {
   "cell_type": "code",
   "execution_count": 12,
   "id": "54fbf856",
   "metadata": {},
   "outputs": [
    {
     "data": {
      "text/plain": [
       "tensor([9, 8, 5, 7, 1, 6, 3, 4, 0, 2])"
      ]
     },
     "execution_count": 12,
     "metadata": {},
     "output_type": "execute_result"
    }
   ],
   "source": [
    "torch.randperm(10)"
   ]
  },
  {
   "attachments": {},
   "cell_type": "markdown",
   "id": "53b6ae21",
   "metadata": {},
   "source": [
    "## 数据类型 "
   ]
  },
  {
   "cell_type": "code",
   "execution_count": 13,
   "id": "7f64cdcd",
   "metadata": {},
   "outputs": [
    {
     "data": {
      "text/plain": [
       "torch.float32"
      ]
     },
     "execution_count": 13,
     "metadata": {},
     "output_type": "execute_result"
    }
   ],
   "source": [
    "# 查看默认数据类型\n",
    "torch.get_default_dtype() "
   ]
  },
  {
   "cell_type": "code",
   "execution_count": 14,
   "id": "721a2dbc",
   "metadata": {
    "scrolled": true
   },
   "outputs": [
    {
     "name": "stdout",
     "output_type": "stream",
     "text": [
      "tensor([[1., 2.],\n",
      "        [3., 4.]])\n",
      "torch.float32\n"
     ]
    }
   ],
   "source": [
    "# 创建一个Tenseor,不另外指定数据类型\n",
    "a = torch.Tensor([[1,2],[3,4]])\n",
    "# 指定数据类型为64位浮点型数据\n",
    "#a = torch.DoubleTensor([[1,2],[3,4]])\n",
    "print(a)\n",
    "# 查看数据类型\n",
    "print(a.dtype)"
   ]
  },
  {
   "cell_type": "code",
   "execution_count": 15,
   "id": "deb0b71d",
   "metadata": {},
   "outputs": [
    {
     "data": {
      "text/plain": [
       "torch.float64"
      ]
     },
     "execution_count": 15,
     "metadata": {},
     "output_type": "execute_result"
    }
   ],
   "source": [
    "# 更改默认的数据类型\n",
    "#torch.set_default_tensor_type(torch.DoubleTensor) \n",
    "torch.set_default_dtype(torch.float64)\n",
    "torch.get_default_dtype() "
   ]
  },
  {
   "cell_type": "code",
   "execution_count": 16,
   "id": "998e01a9",
   "metadata": {},
   "outputs": [
    {
     "name": "stdout",
     "output_type": "stream",
     "text": [
      "tensor([[1., 2.],\n",
      "        [3., 4.]])\n",
      "torch.float64\n"
     ]
    }
   ],
   "source": [
    "a = torch.Tensor([[1,2],[3,4]])\n",
    "print(a) \n",
    "print(a.dtype)"
   ]
  },
  {
   "cell_type": "code",
   "execution_count": 17,
   "id": "156ff64f",
   "metadata": {},
   "outputs": [
    {
     "name": "stdout",
     "output_type": "stream",
     "text": [
      "cpu\n"
     ]
    }
   ],
   "source": [
    "print(a.device)"
   ]
  },
  {
   "cell_type": "code",
   "execution_count": 18,
   "id": "d685ca92",
   "metadata": {},
   "outputs": [
    {
     "data": {
      "text/plain": [
       "True"
      ]
     },
     "execution_count": 18,
     "metadata": {},
     "output_type": "execute_result"
    }
   ],
   "source": [
    "torch.cuda.is_available()"
   ]
  },
  {
   "cell_type": "code",
   "execution_count": 19,
   "id": "44e8d187",
   "metadata": {},
   "outputs": [
    {
     "name": "stdout",
     "output_type": "stream",
     "text": [
      "cuda:0\n"
     ]
    }
   ],
   "source": [
    "a = a.cuda()\n",
    "print(a.device)"
   ]
  },
  {
   "cell_type": "code",
   "execution_count": 20,
   "id": "95b02c3e",
   "metadata": {},
   "outputs": [
    {
     "name": "stdout",
     "output_type": "stream",
     "text": [
      "cpu\n"
     ]
    }
   ],
   "source": [
    "a = a.cpu() \n",
    "print(a.device)"
   ]
  },
  {
   "cell_type": "code",
   "execution_count": 21,
   "id": "cb107a59",
   "metadata": {},
   "outputs": [
    {
     "name": "stdout",
     "output_type": "stream",
     "text": [
      "tensor([[1., 2.],\n",
      "        [3., 4.]], device='cuda:0', dtype=torch.float32)\n",
      "torch.float32\n",
      "cuda:0\n"
     ]
    }
   ],
   "source": [
    "a=torch.cuda.FloatTensor([[1,2],[3,4]])  \n",
    "print(a) \n",
    "print(a.dtype) \n",
    "print(a.device)"
   ]
  },
  {
   "cell_type": "code",
   "execution_count": 7,
   "id": "cc6d73dd",
   "metadata": {},
   "outputs": [
    {
     "name": "stdout",
     "output_type": "stream",
     "text": [
      "tensor([[1, 2],\n",
      "        [3, 4]], dtype=torch.uint8)\n",
      "torch.uint8\n",
      "cpu\n"
     ]
    }
   ],
   "source": [
    "a=torch.ByteTensor([[1,2],[3,4]])  \n",
    "print(a) \n",
    "print(a.dtype) \n",
    "print(a.device)"
   ]
  },
  {
   "cell_type": "code",
   "execution_count": 8,
   "id": "a115c941",
   "metadata": {},
   "outputs": [
    {
     "name": "stdout",
     "output_type": "stream",
     "text": [
      "tensor([[True, True],\n",
      "        [True, True]])\n",
      "torch.bool\n"
     ]
    }
   ],
   "source": [
    "a=torch.BoolTensor([[1,2],[3,4]])  \n",
    "print(a) \n",
    "print(a.dtype) "
   ]
  },
  {
   "cell_type": "code",
   "execution_count": 14,
   "id": "6b329c00",
   "metadata": {},
   "outputs": [
    {
     "name": "stdout",
     "output_type": "stream",
     "text": [
      "tensor([[9.1477e-41, 1.8750e+00]])\n",
      "torch.float32\n",
      "torch.FloatTensor\n",
      "tensor([[4.9407e-324, 4.9407e-324]])\n",
      "torch.float64\n",
      "torch.DoubleTensor\n"
     ]
    }
   ],
   "source": [
    "a=torch.empty(1,2)\n",
    "print(a)\n",
    "print(a.dtype)\n",
    "print(a.type())\n",
    "torch.set_default_dtype(torch.float64)\n",
    "a=torch.empty(1,2)\n",
    "print(a)\n",
    "print(a.dtype)\n",
    "print(a.type())"
   ]
  },
  {
   "attachments": {},
   "cell_type": "markdown",
   "id": "46d504ba",
   "metadata": {},
   "source": [
    "## Tensor的属性"
   ]
  },
  {
   "cell_type": "code",
   "execution_count": 22,
   "id": "b36e4bc9",
   "metadata": {},
   "outputs": [
    {
     "name": "stdout",
     "output_type": "stream",
     "text": [
      "torch.Size([3, 2])\n",
      "torch.Size([3, 2])\n",
      "torch.float64\n",
      "torch.DoubleTensor\n",
      "2\n",
      "6\n"
     ]
    }
   ],
   "source": [
    "a = torch.Tensor([[1,2],[3,4],[5,6]])\n",
    "# 可以通过下面两种方式得到 tensor 的大小\n",
    "print(a.shape) # shape是 tensor 的属性\n",
    "print(a.size()) # size() 是tensor 的方法\n",
    "# 得到tensor数组元素的数据类型\n",
    "print(a.dtype)\n",
    "# 得到 tensor 的数据结构类型 \n",
    "print(a.type())\n",
    "# 得到 tensor 的维度 \n",
    "print(a.dim())\n",
    "# 得到 tensor 的所有元素个数 \n",
    "print(a.numel())"
   ]
  },
  {
   "attachments": {},
   "cell_type": "markdown",
   "id": "bb6b30a3",
   "metadata": {},
   "source": [
    "## Tensor的操作"
   ]
  },
  {
   "cell_type": "code",
   "execution_count": 23,
   "id": "5740e25c",
   "metadata": {},
   "outputs": [
    {
     "name": "stdout",
     "output_type": "stream",
     "text": [
      "tensor([[1., 1.],\n",
      "        [1., 1.]])\n",
      "torch.float64\n",
      "torch.DoubleTensor\n",
      "##############################\n",
      "tensor([[1, 1],\n",
      "        [1, 1]])\n",
      "torch.int64\n",
      "torch.LongTensor\n",
      "##############################\n",
      "tensor([[1., 1.],\n",
      "        [1., 1.]], dtype=torch.float32)\n",
      "torch.float32\n",
      "torch.FloatTensor\n",
      "##############################\n",
      "tensor([[-1.7313,  1.5546, -0.7664],\n",
      "        [ 0.4415, -0.1830, -1.8320],\n",
      "        [ 1.3183,  1.8307,  0.7216],\n",
      "        [-1.1192,  0.1467,  0.5428]])\n",
      "##############################\n",
      "tensor([1.5546, 0.4415, 1.8307, 0.5428])\n",
      "tensor([1, 0, 1, 2])\n",
      "##############################\n",
      "tensor([-0.9432, -1.5735,  3.8705, -0.4298])\n"
     ]
    }
   ],
   "source": [
    "x = torch.ones(2, 2) # 生成全1的2*2张量\n",
    "print(x)\n",
    "print(x.dtype) # tensor 数据元素的数据类型\n",
    "print(x.type()) # tensor 数据结构类型\n",
    "print('##############################')\n",
    "x = x.long()\n",
    "print(x) \n",
    "print(x.dtype) \n",
    "print(x.type())\n",
    "print('##############################')\n",
    "x = x.float() \n",
    "print(x)  \n",
    "print(x.dtype)  \n",
    "print(x.type())\n",
    "print('##############################')\n",
    "x = torch.randn(4, 3) \n",
    "print(x)\n",
    "print('##############################')\n",
    "max_value, max_idx = torch.max(x, dim=1) # 沿着行取最大值，“dim=0”表示按列\n",
    "print(max_value) # 每一行的最大值\n",
    "print(max_idx) # 每一行最大值的下标\n",
    "print('##############################')\n",
    "# 沿着行对 x 求和 \n",
    "sum_x = torch.sum(x, dim=1) \n",
    "print(sum_x)"
   ]
  },
  {
   "attachments": {},
   "cell_type": "markdown",
   "id": "f3dcce7a",
   "metadata": {},
   "source": [
    "## 张量的索引"
   ]
  },
  {
   "cell_type": "code",
   "execution_count": 24,
   "id": "15355f48",
   "metadata": {},
   "outputs": [
    {
     "name": "stdout",
     "output_type": "stream",
     "text": [
      "tensor([ 1,  2,  3,  4,  5,  6,  7,  8,  9, 10])\n",
      "tensor(1)\n",
      "tensor([1, 3, 5, 7])\n"
     ]
    }
   ],
   "source": [
    "# 一维张量索引\n",
    "t1 = torch.arange(1, 11)\n",
    "print(t1)\n",
    "print(t1[0])\n",
    "print(t1[:8:2]) # 从第一个元素开始索引到第9个元素（不包含），并且每隔两个数取一个"
   ]
  },
  {
   "cell_type": "code",
   "execution_count": 25,
   "id": "bc52b4e8",
   "metadata": {},
   "outputs": [
    {
     "name": "stdout",
     "output_type": "stream",
     "text": [
      "tensor([[1, 2, 3],\n",
      "        [4, 5, 6],\n",
      "        [7, 8, 9]])\n",
      "tensor([1, 3])\n"
     ]
    }
   ],
   "source": [
    "# 二维张量索引\n",
    "t2 = torch.arange(1, 10).reshape(3, 3)\n",
    "print(t2)\n",
    "print(t2[0,::2])                # 表示索引第一行、每隔两个元素取一个,注：“:“左右两边为空代表全取"
   ]
  },
  {
   "attachments": {},
   "cell_type": "markdown",
   "id": "b2998886",
   "metadata": {},
   "source": [
    "## 张量的合并操作"
   ]
  },
  {
   "cell_type": "code",
   "execution_count": 26,
   "id": "f6a8c0f2",
   "metadata": {},
   "outputs": [
    {
     "name": "stdout",
     "output_type": "stream",
     "text": [
      "tensor([[0., 0., 0.],\n",
      "        [0., 0., 0.]])\n",
      "##############################\n",
      "tensor([[1., 1., 1.],\n",
      "        [1., 1., 1.]])\n",
      "##############################\n",
      "tensor([[0., 0., 0.],\n",
      "        [0., 0., 0.],\n",
      "        [1., 1., 1.],\n",
      "        [1., 1., 1.]])\n"
     ]
    }
   ],
   "source": [
    "a = torch.zeros(2, 3)\n",
    "b = torch.ones(2, 3)\n",
    "c = torch.cat([a, b]) \n",
    "print(a)\n",
    "print('##############################')\n",
    "print(b)\n",
    "print('##############################')\n",
    "print(c)"
   ]
  },
  {
   "attachments": {},
   "cell_type": "markdown",
   "id": "db4309e2",
   "metadata": {},
   "source": [
    "## 与Numpy配合使用"
   ]
  },
  {
   "cell_type": "code",
   "execution_count": 27,
   "id": "399a17cd",
   "metadata": {},
   "outputs": [
    {
     "name": "stdout",
     "output_type": "stream",
     "text": [
      "[[ 0.1948142  -1.10972952]\n",
      " [-2.53956816 -0.97349902]]\n",
      "float64\n"
     ]
    }
   ],
   "source": [
    "# 创建一个 numpy ndarray \n",
    "# np.random.seed(0) \n",
    "numpy_ndarray1 = np.random.randn(2, 2)\n",
    "print(numpy_ndarray1)\n",
    "print(numpy_ndarray1.dtype)"
   ]
  },
  {
   "cell_type": "code",
   "execution_count": 28,
   "id": "1a557f09",
   "metadata": {},
   "outputs": [
    {
     "name": "stdout",
     "output_type": "stream",
     "text": [
      "tensor([[ 0.1948, -1.1097],\n",
      "        [-2.5396, -0.9735]])\n",
      "torch.float64\n",
      "tensor([[ 0.1948, -1.1097],\n",
      "        [-2.5396, -0.9735]])\n",
      "torch.float64\n"
     ]
    }
   ],
   "source": [
    "# 使用下面两种方式将numpy的ndarray转换到tensor上\n",
    "pytorch_tensor1 = torch.tensor(numpy_ndarray1) \n",
    "pytorch_tensor2 = torch.from_numpy(numpy_ndarray1)\n",
    "print(pytorch_tensor1)\n",
    "print(pytorch_tensor1.dtype)\n",
    "print(pytorch_tensor2)\n",
    "print(pytorch_tensor2.dtype)"
   ]
  },
  {
   "cell_type": "code",
   "execution_count": 3,
   "id": "722f76fd",
   "metadata": {},
   "outputs": [
    {
     "name": "stdout",
     "output_type": "stream",
     "text": [
      "torch.IntTensor\n",
      "torch.int32\n"
     ]
    }
   ],
   "source": [
    "a=np.array([1,2,3])\n",
    "a=torch.from_numpy(a)\n",
    "print(a.type())\n",
    "print(a.dtype)"
   ]
  },
  {
   "cell_type": "code",
   "execution_count": 4,
   "id": "3fd5f4a4",
   "metadata": {},
   "outputs": [
    {
     "name": "stdout",
     "output_type": "stream",
     "text": [
      "torch.DoubleTensor\n",
      "torch.float64\n"
     ]
    }
   ],
   "source": [
    "a=np.array([2,3.3])\n",
    "a=torch.from_numpy(a)\n",
    "print(a.type()) # torch.DoubleTensor\n",
    "print(a.dtype) #"
   ]
  },
  {
   "cell_type": "code",
   "execution_count": 29,
   "id": "23dcdb34",
   "metadata": {},
   "outputs": [
    {
     "name": "stdout",
     "output_type": "stream",
     "text": [
      "[[ 0.1948142  -1.10972952]\n",
      " [-2.53956816 -0.97349902]]\n",
      "float64\n"
     ]
    }
   ],
   "source": [
    "# 使用下面的方法将 pytorch tensor 转换为 numpy ndarray\n",
    "numpy_ndarray2 = pytorch_tensor1.numpy()\n",
    "print(numpy_ndarray2)\n",
    "print(numpy_ndarray2.dtype)"
   ]
  },
  {
   "cell_type": "code",
   "execution_count": 30,
   "id": "05100590",
   "metadata": {},
   "outputs": [
    {
     "data": {
      "text/plain": [
       "array([[0.98371312, 0.01343232, 0.18982422],\n",
       "       [0.22842761, 0.33301664, 0.26185812],\n",
       "       [0.68386788, 0.63938776, 0.31998353]])"
      ]
     },
     "execution_count": 30,
     "metadata": {},
     "output_type": "execute_result"
    }
   ],
   "source": [
    "# 需要注意 GPU 上的 Tensor 不能直接转换为 NumPy ndarray\n",
    "x = torch.rand(3,3)\n",
    "#x = x.cuda()\n",
    "#x.numpy()\n",
    "x = x.cpu()\n",
    "x.cpu().numpy()"
   ]
  },
  {
   "attachments": {},
   "cell_type": "markdown",
   "id": "92f694a8",
   "metadata": {},
   "source": [
    "## Pytorch与Numpy运行时间对比"
   ]
  },
  {
   "cell_type": "code",
   "execution_count": 31,
   "id": "73e90761",
   "metadata": {},
   "outputs": [],
   "source": [
    "na = np.random.rand(1000,1000)\n",
    "nb = np.random.rand(1000,1000)\n",
    "\n",
    "na_tensor_cpu = torch.Tensor(na)  \n",
    "nb_tensor_cpu = torch.Tensor(nb)\n",
    "\n",
    "na_tensor_gpu = na_tensor_cpu.cuda() \n",
    "nb_tensor_gpu = nb_tensor_cpu.cuda() "
   ]
  },
  {
   "cell_type": "code",
   "execution_count": 32,
   "id": "7e143c32",
   "metadata": {
    "scrolled": true
   },
   "outputs": [
    {
     "name": "stdout",
     "output_type": "stream",
     "text": [
      "1.95 ms ± 61.6 µs per loop (mean ± std. dev. of 5 runs, 1,000 loops each)\n",
      "1.98 ms ± 77.4 µs per loop (mean ± std. dev. of 5 runs, 1,000 loops each)\n",
      "1.94 ms ± 52.7 µs per loop (mean ± std. dev. of 5 runs, 1,000 loops each)\n",
      "1.99 ms ± 20.5 µs per loop (mean ± std. dev. of 5 runs, 1,000 loops each)\n"
     ]
    }
   ],
   "source": [
    "# %timeit -r R -n N，以自定义的设置（运行R次，每一次N遍）来运行代码并计时\n",
    "%timeit -r 5 -n 1000 na+nb\n",
    "%timeit -r 5 -n 1000 na-nb\n",
    "%timeit -r 5 -n 1000 na*nb\n",
    "%timeit -r 5 -n 1000 na/nb"
   ]
  },
  {
   "cell_type": "code",
   "execution_count": 33,
   "id": "0d04f581",
   "metadata": {},
   "outputs": [
    {
     "name": "stdout",
     "output_type": "stream",
     "text": [
      "1.18 ms ± 110 µs per loop (mean ± std. dev. of 5 runs, 1,000 loops each)\n",
      "1.1 ms ± 5.22 µs per loop (mean ± std. dev. of 5 runs, 1,000 loops each)\n",
      "1.12 ms ± 23.2 µs per loop (mean ± std. dev. of 5 runs, 1,000 loops each)\n",
      "1.12 ms ± 26 µs per loop (mean ± std. dev. of 5 runs, 1,000 loops each)\n"
     ]
    }
   ],
   "source": [
    "%timeit  -r 5 -n 1000 na_tensor_cpu+nb_tensor_cpu\n",
    "%timeit  -r 5 -n 1000 na_tensor_cpu-nb_tensor_cpu\n",
    "%timeit  -r 5 -n 1000 na_tensor_cpu*nb_tensor_cpu\n",
    "%timeit  -r 5 -n 1000 na_tensor_cpu/nb_tensor_cpu"
   ]
  },
  {
   "cell_type": "code",
   "execution_count": 34,
   "id": "2a636242",
   "metadata": {},
   "outputs": [
    {
     "name": "stdout",
     "output_type": "stream",
     "text": [
      "The slowest run took 25.83 times longer than the fastest. This could mean that an intermediate result is being cached.\n",
      "158 µs ± 117 µs per loop (mean ± std. dev. of 5 runs, 1,000 loops each)\n",
      "132 µs ± 5.48 µs per loop (mean ± std. dev. of 5 runs, 1,000 loops each)\n",
      "135 µs ± 670 ns per loop (mean ± std. dev. of 5 runs, 1,000 loops each)\n",
      "132 µs ± 10.4 µs per loop (mean ± std. dev. of 5 runs, 1,000 loops each)\n"
     ]
    }
   ],
   "source": [
    "%timeit  -r 5 -n 1000 na_tensor_gpu+nb_tensor_gpu\n",
    "%timeit  -r 5 -n 1000 na_tensor_gpu-nb_tensor_gpu\n",
    "%timeit  -r 5 -n 1000 na_tensor_gpu*nb_tensor_gpu\n",
    "%timeit  -r 5 -n 1000 na_tensor_gpu/nb_tensor_gpu"
   ]
  },
  {
   "attachments": {},
   "cell_type": "markdown",
   "id": "b9af95b2",
   "metadata": {},
   "source": [
    "## Tensor维度变换"
   ]
  },
  {
   "attachments": {},
   "cell_type": "markdown",
   "id": "88ac2c47",
   "metadata": {},
   "source": [
    "### 1、改变Shape"
   ]
  },
  {
   "cell_type": "code",
   "execution_count": 35,
   "id": "407da575",
   "metadata": {},
   "outputs": [
    {
     "name": "stdout",
     "output_type": "stream",
     "text": [
      "torch.Size([4, 1, 28, 28])\n",
      "torch.Size([4, 28, 28])\n",
      "torch.Size([4, 28, 28])\n",
      "torch.Size([4, 784])\n"
     ]
    }
   ],
   "source": [
    "a = torch.randn(4, 1, 28, 28)\n",
    "print(a.shape)\n",
    "print(a.view(4 * 1, 28, 28).shape)\n",
    "print(a.reshape(4 * 1, 28, 28).shape)\n",
    "print(a.reshape(4, 1 * 28 * 28).shape)"
   ]
  },
  {
   "attachments": {},
   "cell_type": "markdown",
   "id": "277be6de",
   "metadata": {},
   "source": [
    "### 2、增加维度"
   ]
  },
  {
   "attachments": {},
   "cell_type": "markdown",
   "id": "3cbe6bbe",
   "metadata": {},
   "source": [
    "这个Tensor有4个维度，我们可以在现有维度的基础上插入一个新的维度，插入维度的index在[-a.dim()-1, a.dim()+1)范围内，并且当index>=0，则在index前面插入这个新增加的维度；当index < 0，则在index后面插入这个新增的维度。"
   ]
  },
  {
   "cell_type": "code",
   "execution_count": 36,
   "id": "2b5b7fb7",
   "metadata": {},
   "outputs": [
    {
     "name": "stdout",
     "output_type": "stream",
     "text": [
      "torch.Size([4, 1, 28, 28])\n",
      "torch.Size([1, 4, 1, 28, 28])\n",
      "torch.Size([4, 1, 28, 28, 1])\n",
      "torch.Size([4, 1, 28, 1, 28])\n",
      "torch.Size([4, 1, 28, 28, 1])\n",
      "torch.Size([4, 1, 1, 28, 28])\n",
      "torch.Size([1, 4, 1, 28, 28])\n"
     ]
    }
   ],
   "source": [
    "a = torch.randn(4, 1, 28, 28)\n",
    "print(a.shape)\n",
    "print(a.unsqueeze(0).shape)\n",
    "print(a.unsqueeze(-1).shape)\n",
    "print(a.unsqueeze(3).shape)\n",
    "print(a.unsqueeze(4).shape)\n",
    "print(a.unsqueeze(-4).shape)\n",
    "print(a.unsqueeze(-5).shape)\n",
    "#print(a.unsqueeze(5).shape)"
   ]
  },
  {
   "attachments": {},
   "cell_type": "markdown",
   "id": "9cce142d",
   "metadata": {},
   "source": [
    "### 3、删减维度"
   ]
  },
  {
   "cell_type": "code",
   "execution_count": 37,
   "id": "c8e10eb5",
   "metadata": {},
   "outputs": [
    {
     "name": "stdout",
     "output_type": "stream",
     "text": [
      "torch.Size([1, 4, 1, 9])\n",
      "torch.Size([4, 9])\n",
      "torch.Size([4, 1, 9])\n",
      "torch.Size([1, 4, 9])\n",
      "torch.Size([1, 4, 1, 9])\n"
     ]
    }
   ],
   "source": [
    "a = torch.Tensor(1, 4, 1, 9)\n",
    "print(a.shape)\n",
    "print(a.squeeze().shape) # 删除所有的size=1的维度\n",
    "print(a.squeeze(0).shape) # 删除0号维度,ok\n",
    "print(a.squeeze(2).shape) # 删除2号维度,ok\n",
    "print(a.squeeze(3).shape) # 删除3号维度,但是3号维度是9不是1,删除失败"
   ]
  },
  {
   "cell_type": "code",
   "execution_count": null,
   "id": "4550b3f6",
   "metadata": {},
   "outputs": [],
   "source": []
  }
 ],
 "metadata": {
  "kernelspec": {
   "display_name": "Python 3 (ipykernel)",
   "language": "python",
   "name": "python3"
  },
  "language_info": {
   "codemirror_mode": {
    "name": "ipython",
    "version": 3
   },
   "file_extension": ".py",
   "mimetype": "text/x-python",
   "name": "python",
   "nbconvert_exporter": "python",
   "pygments_lexer": "ipython3",
   "version": "3.7.0"
  }
 },
 "nbformat": 4,
 "nbformat_minor": 5
}
