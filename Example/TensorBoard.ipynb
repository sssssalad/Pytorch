{
 "cells": [
  {
   "cell_type": "markdown",
   "id": "6c5a469f",
   "metadata": {},
   "source": [
    "# TensorBoard可视化应用示例"
   ]
  },
  {
   "cell_type": "code",
   "execution_count": 1,
   "id": "1883acaf",
   "metadata": {},
   "outputs": [],
   "source": [
    "import matplotlib.pyplot as plt\n",
    "import numpy as np\n",
    "import torch\n",
    "import torchvision\n",
    "import torchvision.transforms as transforms\n",
    "import torch.nn as nn\n",
    "import torch.nn.functional as F\n",
    "import torch.optim as optim\n",
    "import os"
   ]
  },
  {
   "cell_type": "markdown",
   "id": "fabcf7b2",
   "metadata": {},
   "source": [
    "## 导入数据集"
   ]
  },
  {
   "cell_type": "code",
   "execution_count": 2,
   "id": "3297451c",
   "metadata": {},
   "outputs": [],
   "source": [
    "# 定义数据标准化变换\n",
    "transform = transforms.Compose([transforms.ToTensor(), transforms.Normalize((0.5,), (0.5,))])\n",
    "\n",
    "# 加载训练数据集\n",
    "trainset = torchvision.datasets.FashionMNIST('./data', download = True, train =True, transform = transform) \n",
    "# 加载测试数据集\n",
    "testset = torchvision.datasets.FashionMNIST('./data', download= True, train = False, transform=transform) \n",
    "\n",
    "#训练集形成一批一批的可迭代的数据对象\n",
    "trainloader = torch.utils.data.DataLoader(trainset, batch_size = 4, shuffle = True, num_workers = 0)\n",
    "#测试集形成一批一批的可迭代的数据对象\n",
    "testloader = torch.utils.data.DataLoader(testset, batch_size = 4, shuffle = True, num_workers =0) \n",
    "\n",
    "#10个标签类\n",
    "classes = ('T-shirt/top', 'Trouser', 'Pullover', 'Dress', 'Coat', 'Sandal', 'Shirt', 'Sneaker', 'Bag', 'Ankle Boot')"
   ]
  },
  {
   "cell_type": "markdown",
   "id": "cc7ec042",
   "metadata": {},
   "source": [
    "## 定义网络模型、损失函数、优化器"
   ]
  },
  {
   "cell_type": "code",
   "execution_count": 3,
   "id": "2440932d",
   "metadata": {},
   "outputs": [],
   "source": [
    "#定义一个神经网络类\n",
    "class Net(nn.Module):\n",
    "    def __init__(self):\n",
    "        super(Net, self).__init__()\n",
    "        self.conv1 = nn.Conv2d(1, 6, 5)\n",
    "        self.pool = nn.MaxPool2d(2, 2)\n",
    "        self.conv2 = nn.Conv2d(6, 16, 5)\n",
    "        self.fc1 = nn.Linear(16*4*4, 120)\n",
    "        self.fc2 = nn.Linear(120, 84)\n",
    "        self.fc3 = nn.Linear(84, 10)\n",
    "\n",
    "    def forward(self, x):\n",
    "        x = self.pool(F.relu(self.conv1(x)))\n",
    "        x = self.pool(F.relu(self.conv2(x)))\n",
    "        x = x.view(-1, 16*4*4)\n",
    "        x = F.relu(self.fc1(x))\n",
    "        x = F.relu(self.fc2(x))\n",
    "        x = self.fc3(x)\n",
    "        return x\n",
    "\n",
    "#实例化\n",
    "net = Net()\n",
    "#交叉信息熵，损失函数 \n",
    "criterion = nn.CrossEntropyLoss()\n",
    "#优化方式为梯度下降\n",
    "optimizer = optim.SGD(net.parameters(), lr = 0.001, momentum= 0.9)"
   ]
  },
  {
   "cell_type": "markdown",
   "id": "c47c825d",
   "metadata": {},
   "source": [
    "## TensorBoard初始化"
   ]
  },
  {
   "cell_type": "markdown",
   "id": "c0228881",
   "metadata": {},
   "source": [
    "把`TensorBoard`当成一个数据看板进行初始化，后面的绘图之类的工作都可以`add`到这个看板上面去，初始化后会在代码的同级文件夹创建一个`runs/fashion_mnist_experiment_1`文件夹用来存放可视化对象。"
   ]
  },
  {
   "cell_type": "code",
   "execution_count": 4,
   "id": "d72f1dcf",
   "metadata": {},
   "outputs": [],
   "source": [
    "from torch.utils.tensorboard import SummaryWriter \n",
    "\n",
    "#tensorboard初始化\n",
    "#创建一个runs/fashion_mnist_experiment_1文件夹\n",
    "writer = SummaryWriter('runs/fashion_mnist_experiment_1') "
   ]
  },
  {
   "cell_type": "markdown",
   "id": "aefadf04",
   "metadata": {},
   "source": [
    "执行命令行`tensorboard --logdir=C:\\\\Users\\\\leo\\\\Desktop\\\\PyTorch程序设计-3.27`  \n",
    "\n",
    "打开`http://localhost:6006/`"
   ]
  },
  {
   "cell_type": "markdown",
   "id": "484b1dd7",
   "metadata": {},
   "source": [
    "![jupyter](./image/TB_link.jpg)"
   ]
  },
  {
   "cell_type": "markdown",
   "id": "61fd47df",
   "metadata": {},
   "source": [
    "![jupyter](./image/localhost.jpg)"
   ]
  },
  {
   "cell_type": "markdown",
   "id": "91b82e97",
   "metadata": {},
   "source": [
    "## add image"
   ]
  },
  {
   "cell_type": "markdown",
   "id": "ffd06777",
   "metadata": {},
   "source": [
    "有了`TensorBoard`数据看板，现在就可以往里面`add`数据图像磁贴，比如随机抽取4个训练样本组合网格拼图写入`TensorBoard`里面。"
   ]
  },
  {
   "cell_type": "code",
   "execution_count": 5,
   "id": "19f77802",
   "metadata": {},
   "outputs": [],
   "source": [
    "dataiter = iter(trainloader) #创建迭代器\n",
    "images, labels = next(dataiter) #获取迭代器中的下一个值\n",
    "img_grid = torchvision.utils.make_grid(images) #将若干幅图像拼成一幅图像\n",
    "writer.add_image('four_fashion_mnist_images', img_grid) #images写入到TensorBoard"
   ]
  },
  {
   "cell_type": "markdown",
   "id": "631ce00e",
   "metadata": {},
   "source": [
    "![jupyter](./image/add_image.png)"
   ]
  },
  {
   "cell_type": "markdown",
   "id": "8d284ae9",
   "metadata": {},
   "source": [
    "## add  graph"
   ]
  },
  {
   "cell_type": "markdown",
   "id": "b50f34c0",
   "metadata": {},
   "source": [
    "`TensorBoard`不单单可以将样本可视化，更重要的还可以监察模型，展示模型结构，可以点击节点的“+”号展开查看更详细的参数和结构。"
   ]
  },
  {
   "cell_type": "code",
   "execution_count": 6,
   "id": "f1bf0b20",
   "metadata": {},
   "outputs": [],
   "source": [
    "writer.add_graph(net, images) #神经网络graph写入tensorboard\n",
    "writer.close()"
   ]
  },
  {
   "cell_type": "markdown",
   "id": "ab28eac0",
   "metadata": {},
   "source": [
    "![jupyter](./image/add_graph.png)"
   ]
  },
  {
   "cell_type": "markdown",
   "id": "b06bad39",
   "metadata": {},
   "source": [
    "## 定义函数用于模型判别的可视化"
   ]
  },
  {
   "cell_type": "code",
   "execution_count": 7,
   "id": "aa56920f",
   "metadata": {},
   "outputs": [],
   "source": [
    "def matplotlib_imshow(img, one_channel = False): #样本数据可视化\n",
    "    if one_channel:\n",
    "        img = img.mean(dim =0)\n",
    "    img = img /2 +0.5\n",
    "    npimg = img.numpy()\n",
    "    if one_channel:\n",
    "        plt.imshow(npimg, cmap = 'Greys')\n",
    "    else:\n",
    "        plt.imshow(np.transpose(npimg, (1,2,0)))\n",
    "        \n",
    "def images_to_probs(net, images): #概率预测\n",
    "    # 将一个batch的图片送至模型net，得到output.shape为torch.Size([4, 10])\n",
    "    output = net(images)\n",
    "    # 返回每一行中值最大的元素，且返回索引，得到preds_tensor.shape为torch.Size([4])\n",
    "    _, preds_tensor = torch.max(output, 1) \n",
    "    preds = preds_tensor.numpy()\n",
    "    # softmax多个输出值转换成多个概率值，其中el.shape为torch.Size([10])\n",
    "    return preds, [F.softmax(el, dim = 0)[i].item() for i, el in zip(preds, output)] \n",
    "\n",
    "def plot_classes_preds(net, images, labels): #概率类别结果可视化\n",
    "    preds, probs = images_to_probs(net, images) \n",
    "    fig = plt.figure(figsize = (12, 48))\n",
    "    for idx in np.arange(4):\n",
    "        ax = fig.add_subplot(1, 4, idx+1, xticks =[], yticks = [])\n",
    "        matplotlib_imshow(images[idx], one_channel= True)\n",
    "        ax.set_title(\"{0}, {1:.1}%\\n(label: {2}\".format(\n",
    "            classes[preds[idx]],\n",
    "            probs[idx]*100.0,\n",
    "            classes[labels[idx]]),\n",
    "            color = (\"green\" if preds[idx]==labels[idx].item() else \"red\")) #颜色标志\n",
    "    return fig"
   ]
  },
  {
   "cell_type": "code",
   "execution_count": 8,
   "id": "4ace8800",
   "metadata": {},
   "outputs": [
    {
     "name": "stdout",
     "output_type": "stream",
     "text": [
      "torch.Size([4, 10])\n",
      "torch.Size([4])\n",
      "[4 7 4 4]\n",
      "4 0.9806510806083679\n",
      "7 0.9998102784156799\n",
      "4 0.7097857594490051\n",
      "4 0.9930176734924316\n"
     ]
    },
    {
     "data": {
      "image/png": "[encoded data removed]",
      "text/plain": [
       "<Figure size 864x3456 with 4 Axes>"
      ]
     },
     "execution_count": 8,
     "metadata": {},
     "output_type": "execute_result"
    },
    {
     "data": {
      "image/png": "[encoded data removed]",
      "text/plain": [
       "<Figure size 864x3456 with 4 Axes>"
      ]
     },
     "metadata": {},
     "output_type": "display_data"
    }
   ],
   "source": [
    "trained_net = torch.load('Tensorboard_model.pth')\n",
    "images, labels = next(iter(trainloader))\n",
    "output = trained_net(images)\n",
    "print(output.shape)\n",
    "_, preds_tensor = torch.max(output, 1) \n",
    "print(preds_tensor.shape)\n",
    "preds = preds_tensor.numpy()\n",
    "print(preds)\n",
    "for i, el in zip(preds, output):\n",
    "    print(i, F.softmax(el, dim = 0)[i].item())\n",
    "plot_classes_preds(trained_net, images, labels)"
   ]
  },
  {
   "cell_type": "markdown",
   "id": "993dba72",
   "metadata": {},
   "source": [
    "## tracking model & add scalar"
   ]
  },
  {
   "cell_type": "code",
   "execution_count": 9,
   "id": "58348029",
   "metadata": {},
   "outputs": [
    {
     "name": "stdout",
     "output_type": "stream",
     "text": [
      "Finished Training\n"
     ]
    }
   ],
   "source": [
    "running_loss = 0.0\n",
    "for epoch in range(10): \n",
    "    for i, data in enumerate(trainloader, 0):\n",
    "        inputs, labels = data\n",
    "        optimizer.zero_grad()\n",
    "        outputs = net(inputs)\n",
    "        loss = criterion(outputs, labels)\n",
    "        loss.backward()\n",
    "        optimizer.step()\n",
    "        running_loss += loss.item()\n",
    "        # 每隔1000次写入\n",
    "        if i % 1000 == 999:   \n",
    "            writer.add_scalar('training loss',\n",
    "                            running_loss / 1000,\n",
    "                            epoch * len(trainloader) + i)\n",
    "            writer.add_figure('predictions vs. actuals',\n",
    "                            plot_classes_preds(net, inputs, labels),\n",
    "                            global_step=epoch * len(trainloader) + i)\n",
    "            running_loss = 0.0\n",
    "print('Finished Training')"
   ]
  },
  {
   "cell_type": "code",
   "execution_count": 10,
   "id": "e61f22d6",
   "metadata": {},
   "outputs": [],
   "source": [
    "torch.save(net,'Tensorboard_model.pth')"
   ]
  },
  {
   "cell_type": "markdown",
   "id": "fb41e5a8",
   "metadata": {},
   "source": [
    "![jupyter](./image/add_result.png)"
   ]
  },
  {
   "cell_type": "markdown",
   "id": "1b3c3c96",
   "metadata": {},
   "source": [
    "![jupyter](./image/add_scalar.png)"
   ]
  },
  {
   "cell_type": "code",
   "execution_count": 11,
   "id": "10aa4001",
   "metadata": {},
   "outputs": [],
   "source": [
    "class_probs = []\n",
    "class_preds = []\n",
    "with torch.no_grad():\n",
    "    for data in testloader:\n",
    "        images, labels = data\n",
    "        output = net(images)\n",
    "        class_probs_batch = [F.softmax(el, dim=0) for el in output]\n",
    "        _, class_preds_batch = torch.max(output, 1)\n",
    "\n",
    "        class_probs.append(class_probs_batch)\n",
    "        class_preds.append(class_preds_batch)\n",
    "\n",
    "test_probs = torch.cat([torch.stack(batch) for batch in class_probs])\n",
    "test_preds = torch.cat(class_preds)\n",
    "\n",
    "def add_pr_curve_tensorboard(class_index, test_probs, test_preds, global_step=0): #绘制precision-recall曲线\n",
    "    tensorboard_preds = test_preds == class_index\n",
    "    tensorboard_probs = test_probs[:, class_index]\n",
    "    writer.add_pr_curve(classes[class_index],\n",
    "                        tensorboard_preds,\n",
    "                        tensorboard_probs,\n",
    "                        global_step=global_step)\n",
    "    writer.close()\n",
    "\n",
    "for i in range(len(classes)): #为每一类绘制precision-recall曲线\n",
    "    add_pr_curve_tensorboard(i, test_probs, test_preds)"
   ]
  },
  {
   "cell_type": "markdown",
   "id": "42781fe5",
   "metadata": {},
   "source": [
    "![jupyter](./image/add_PR.png)"
   ]
  }
 ],
 "metadata": {
  "kernelspec": {
   "display_name": "Python 3 (ipykernel)",
   "language": "python",
   "name": "python3"
  },
  "language_info": {
   "codemirror_mode": {
    "name": "ipython",
    "version": 3
   },
   "file_extension": ".py",
   "mimetype": "text/x-python",
   "name": "python",
   "nbconvert_exporter": "python",
   "pygments_lexer": "ipython3",
   "version": "3.10.5"
  }
 },
 "nbformat": 4,
 "nbformat_minor": 5
}
