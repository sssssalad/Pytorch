{
 "cells": [
  {
   "cell_type": "markdown",
   "id": "7eb11337",
   "metadata": {},
   "source": [
    "## 数据处理"
   ]
  },
  {
   "cell_type": "code",
   "execution_count": 1,
   "id": "15f98c25",
   "metadata": {},
   "outputs": [],
   "source": [
    "from __future__ import unicode_literals, print_function, division\n",
    "from io import open\n",
    "import glob\n",
    "import os"
   ]
  },
  {
   "cell_type": "markdown",
   "id": "7cb61771",
   "metadata": {},
   "source": [
    "`data/names`目录中包含18个文本文件, 这些文件名为`[Language].txt`。"
   ]
  },
  {
   "cell_type": "code",
   "execution_count": 2,
   "id": "4dc7c636",
   "metadata": {},
   "outputs": [
    {
     "name": "stdout",
     "output_type": "stream",
     "text": [
      "['data\\\\names\\\\Arabic.txt', 'data\\\\names\\\\Chinese.txt', 'data\\\\names\\\\Czech.txt', 'data\\\\names\\\\Dutch.txt', 'data\\\\names\\\\English.txt', 'data\\\\names\\\\French.txt', 'data\\\\names\\\\German.txt', 'data\\\\names\\\\Greek.txt', 'data\\\\names\\\\Irish.txt', 'data\\\\names\\\\Italian.txt', 'data\\\\names\\\\Japanese.txt', 'data\\\\names\\\\Korean.txt', 'data\\\\names\\\\Polish.txt', 'data\\\\names\\\\Portuguese.txt', 'data\\\\names\\\\Russian.txt', 'data\\\\names\\\\Scottish.txt', 'data\\\\names\\\\Spanish.txt', 'data\\\\names\\\\Vietnamese.txt']\n"
     ]
    }
   ],
   "source": [
    "# 定义findFiles函数，查找符合通配符要求的文件\n",
    "def findFiles(path): \n",
    "    return glob.glob(path)\n",
    "print(findFiles('data\\\\names\\\\*.txt'))"
   ]
  },
  {
   "cell_type": "code",
   "execution_count": 3,
   "id": "0f73a408",
   "metadata": {},
   "outputs": [],
   "source": [
    "import unicodedata\n",
    "import string\n",
    "# 获得所有的字母/符号及其长度\n",
    "# \"abcdefghijklmnopqrstuvwxyzABCDEFGHIJKLMNOPQRSTUVWXYZ .,;'\"\n",
    "all_letters = string.ascii_letters + \" .,;'\"\n",
    "n_letters = len(all_letters)\n",
    "def unicodeToAscii(s):\n",
    "    return ''.join(c for c in unicodedata.normalize('NFD', s)\n",
    "        if unicodedata.category(c) != 'Mn'and c in all_letters)"
   ]
  },
  {
   "cell_type": "code",
   "execution_count": 8,
   "id": "3100cf47",
   "metadata": {},
   "outputs": [
    {
     "name": "stdout",
     "output_type": "stream",
     "text": [
      "Slusarski\n",
      "Belanger\n",
      "57\n"
     ]
    }
   ],
   "source": [
    "print(unicodeToAscii('Ślusàrski'))\n",
    "print(unicodeToAscii('Bélanger'))\n",
    "print(len(all_letters))"
   ]
  },
  {
   "cell_type": "code",
   "execution_count": 4,
   "id": "13104345",
   "metadata": {},
   "outputs": [],
   "source": [
    "# 定义readLines函数，读取文件，并将文件每一行内容的编码转换为ASCII。\n",
    "def readLines(filename):\n",
    "    lines = open(filename, encoding='utf-8').read().strip().split('\\n')\n",
    "    return [unicodeToAscii(line) for line in lines]"
   ]
  },
  {
   "cell_type": "code",
   "execution_count": 5,
   "id": "513ec9db",
   "metadata": {},
   "outputs": [
    {
     "name": "stdout",
     "output_type": "stream",
     "text": [
      "18\n",
      "['Abel', 'Abraham', 'Adam', 'Albert', 'Allard']\n"
     ]
    }
   ],
   "source": [
    "# 定义category_lines字典和all_categories列表\n",
    "# category_lines：key为语言的类别，value为名称的列表\n",
    "# all_categories：所有语言的种类\n",
    "category_lines = {}\n",
    "all_categories = []\n",
    "for filename in findFiles('data\\\\names\\\\*.txt'):\n",
    "    category = os.path.splitext(os.path.basename(filename))[0]\n",
    "    all_categories.append(category)\n",
    "    lines = readLines(filename)\n",
    "    category_lines[category] = lines\n",
    "n_categories = len(all_categories)\n",
    "print(n_categories)\n",
    "# 将语言选定为French，内容为前5行的数据进行打印显示。\n",
    "print(category_lines['French'][:5])"
   ]
  },
  {
   "cell_type": "markdown",
   "id": "efa208bd",
   "metadata": {},
   "source": [
    "## 将名称转换为向量"
   ]
  },
  {
   "cell_type": "markdown",
   "id": "02733566",
   "metadata": {},
   "source": [
    "因为字符无法进行数学运算，所以需要将名称转变为向量。\n",
    "为了表示单个字母，我们使用大小为`1*n_letters`的one-hot向量，因为将离散型特征使用one-hot编码，会让特征之间的距离计算更加合理。"
   ]
  },
  {
   "cell_type": "markdown",
   "id": "aa6d6836",
   "metadata": {},
   "source": [
    "one-hot向量用0填充，但当前字母的索引处的数字为1，例如`\"b\" = <0 1 0 0 0 ...>`。"
   ]
  },
  {
   "cell_type": "markdown",
   "id": "45ee79de",
   "metadata": {},
   "source": [
    "为了成为一个词，我们将它们连接成一个 2D 矩阵`<line_length*1*n_letters>`，额外的1维度是因为PyTorch假定一切都是分批次的——我们这里只使用大小为1的批处理。"
   ]
  },
  {
   "cell_type": "code",
   "execution_count": null,
   "id": "3af1f6e0",
   "metadata": {},
   "outputs": [],
   "source": [
    "import torch\n",
    "# 定义letterToIndex函数，从all_letters列表中查找字母索引。, e.g. \"a\" = 0\n",
    "def letterToIndex(letter):\n",
    "    return all_letters.find(letter)\n",
    "# 定义letterToTensor函数，将字母转换成维度是<1 x n_letters>的one-hot向量。\n",
    "def letterToTensor(letter):\n",
    "    tensor = torch.zeros(1, n_letters)\n",
    "    tensor[0][letterToIndex(letter)] = 1\n",
    "    return tensor\n",
    "# 定义lineToTensor函数，将一行转化为<line_length x 1 x n_letters>的one-hot向量。\n",
    "def lineToTensor(line):\n",
    "    tensor = torch.zeros(len(line), 1, n_letters)\n",
    "    for li, letter in enumerate(line):\n",
    "        tensor[li][0][letterToIndex(letter)] = 1\n",
    "    return tensor"
   ]
  },
  {
   "cell_type": "code",
   "execution_count": 6,
   "id": "b255be65",
   "metadata": {},
   "outputs": [
    {
     "name": "stdout",
     "output_type": "stream",
     "text": [
      "tensor([[0., 0., 0., 0., 0., 0., 0., 0., 0., 0., 0., 0., 0., 0., 0., 0., 0., 0.,\n",
      "         0., 0., 0., 0., 0., 0., 0., 0., 1., 0., 0., 0., 0., 0., 0., 0., 0., 0.,\n",
      "         0., 0., 0., 0., 0., 0., 0., 0., 0., 0., 0., 0., 0., 0., 0., 0., 0., 0.,\n",
      "         0., 0., 0.]])\n",
      "torch.Size([4, 1, 57])\n"
     ]
    }
   ],
   "source": [
    "print(letterToTensor('A'))\n",
    "print(lineToTensor('Alex').size())"
   ]
  },
  {
   "cell_type": "markdown",
   "id": "cac9d737",
   "metadata": {},
   "source": [
    "## 创建网络"
   ]
  },
  {
   "cell_type": "code",
   "execution_count": 7,
   "id": "d5540cdb",
   "metadata": {},
   "outputs": [],
   "source": [
    "import torch.nn as nn\n",
    "class RNN(nn.Module):\n",
    "    def __init__(self, input_size, hidden_size, output_size):\n",
    "        super(RNN, self).__init__()\n",
    "        self.hidden_size = hidden_size\n",
    "        self.i2h = nn.Linear(input_size + hidden_size, hidden_size)\n",
    "        self.i2o = nn.Linear(input_size + hidden_size, output_size)\n",
    "        self.softmax = nn.LogSoftmax(dim=1)\n",
    "    def forward(self, input, hidden):\n",
    "        combined = torch.cat((input, hidden), 1)\n",
    "        hidden = self.i2h(combined)\n",
    "        output = self.i2o(combined)\n",
    "        output = self.softmax(output)\n",
    "        return output, hidden\n",
    "    def initHidden(self):\n",
    "        return torch.zeros(1, self.hidden_size)"
   ]
  },
  {
   "cell_type": "code",
   "execution_count": 8,
   "id": "79771195",
   "metadata": {},
   "outputs": [],
   "source": [
    "n_hidden = 128\n",
    "rnn = RNN(n_letters, n_hidden, n_categories)"
   ]
  },
  {
   "cell_type": "code",
   "execution_count": 9,
   "id": "9c669dc9",
   "metadata": {},
   "outputs": [],
   "source": [
    "input = letterToTensor('A')\n",
    "hidden = torch.zeros(1, n_hidden)\n",
    "output, next_hidden = rnn(input, hidden)"
   ]
  },
  {
   "cell_type": "code",
   "execution_count": 10,
   "id": "7e70917a",
   "metadata": {},
   "outputs": [
    {
     "name": "stdout",
     "output_type": "stream",
     "text": [
      "tensor([[-2.9442, -2.8405, -2.9060, -2.8774, -2.8833, -2.8494, -2.8494, -2.8875,\n",
      "         -2.8290, -2.9087, -2.8327, -2.9491, -2.9838, -2.9411, -2.9089, -2.9818,\n",
      "         -2.8510, -2.8258]], grad_fn=<LogSoftmaxBackward0>)\n"
     ]
    }
   ],
   "source": [
    "input = lineToTensor('Albert')\n",
    "hidden = torch.zeros(1, n_hidden)\n",
    "\n",
    "output, next_hidden = rnn(input[0], hidden)\n",
    "print(output)"
   ]
  },
  {
   "cell_type": "markdown",
   "id": "ec2e702a",
   "metadata": {},
   "source": [
    "## 网络训练"
   ]
  },
  {
   "cell_type": "code",
   "execution_count": 11,
   "id": "f29404ac",
   "metadata": {},
   "outputs": [
    {
     "name": "stdout",
     "output_type": "stream",
     "text": [
      "('Vietnamese', 17)\n"
     ]
    }
   ],
   "source": [
    "def categoryFromOutput(output):\n",
    "    top_n, top_i = output.topk(1)\n",
    "    category_i = top_i[0].item()\n",
    "    return all_categories[category_i], category_i\n",
    "\n",
    "print(categoryFromOutput(output))"
   ]
  },
  {
   "cell_type": "code",
   "execution_count": 12,
   "id": "b8852121",
   "metadata": {},
   "outputs": [
    {
     "name": "stdout",
     "output_type": "stream",
     "text": [
      "category = Dutch / line = Aalst\n",
      "category = Vietnamese / line = Hoang\n",
      "category = Italian / line = Battaglia\n",
      "category = Japanese / line = Sen\n",
      "category = French / line = Granger\n",
      "category = Polish / line = Adamczak\n",
      "category = Irish / line = Cormac\n",
      "category = Vietnamese / line = Vo\n",
      "category = Dutch / line = Middelburg\n",
      "category = Czech / line = Giersig\n"
     ]
    }
   ],
   "source": [
    "import random\n",
    "def randomChoice(l):\n",
    "    return l[random.randint(0, len(l) - 1)]\n",
    "def randomTrainingExample():\n",
    "    category = randomChoice(all_categories)\n",
    "    line = randomChoice(category_lines[category])\n",
    "    category_tensor = torch.tensor([all_categories.index(category)], dtype=torch.long)\n",
    "    line_tensor = lineToTensor(line)\n",
    "    return category, line, category_tensor, line_tensor\n",
    "for i in range(10):\n",
    "    category, line, category_tensor, line_tensor = randomTrainingExample()\n",
    "    print('category =', category, '/ line =', line)"
   ]
  },
  {
   "cell_type": "code",
   "execution_count": 14,
   "id": "c3f87c35",
   "metadata": {},
   "outputs": [],
   "source": [
    "criterion = nn.NLLLoss()\n",
    "learning_rate = 0.005 \n",
    "def train(category_tensor, line_tensor):\n",
    "    hidden = rnn.initHidden()\n",
    "    rnn.zero_grad()\n",
    "    for i in range(line_tensor.size()[0]):\n",
    "        output, hidden = rnn(line_tensor[i], hidden)\n",
    "    loss = criterion(output, category_tensor)\n",
    "    loss.backward()\n",
    "    for p in rnn.parameters():\n",
    "        p.data.add_(p.grad.data, alpha=-learning_rate)\n",
    "    return output, loss.item()"
   ]
  },
  {
   "cell_type": "code",
   "execution_count": 15,
   "id": "4d9f094f",
   "metadata": {},
   "outputs": [
    {
     "name": "stdout",
     "output_type": "stream",
     "text": [
      "5000 5% 2.8172 Moulin / Scottish ✗ (French)\n",
      "10000 10% 2.3638 Sumner / German ✗ (English)\n",
      "15000 15% 2.7892 Russell / English ✗ (Scottish)\n",
      "20000 20% 5.2690 Jones / Dutch ✗ (Scottish)\n",
      "25000 25% 0.9957 Hadad / Arabic ✓\n",
      "30000 30% 1.5829 Rahal / Vietnamese ✗ (Arabic)\n",
      "35000 35% 1.6854 Fakhoury / Japanese ✗ (Arabic)\n",
      "40000 40% 1.5127 Pozzi / Polish ✗ (Italian)\n",
      "45000 45% 1.2803 Zou / Korean ✗ (Chinese)\n",
      "50000 50% 0.1508 Gorski / Polish ✓\n",
      "55000 55% 2.3980 Geroux / Arabic ✗ (French)\n",
      "60000 60% 0.5031 Zhai / Chinese ✓\n",
      "65000 65% 1.0178 Khouri / Japanese ✗ (Arabic)\n",
      "70000 70% 1.4083 Mendez / Spanish ✓\n",
      "75000 75% 0.6098 Dao / Vietnamese ✓\n",
      "80000 80% 2.0726 Renaud / Dutch ✗ (French)\n",
      "85000 85% 1.4706 Alves / Spanish ✓\n",
      "90000 90% 1.0130 Lobo / Portuguese ✓\n",
      "95000 95% 0.8764 O'Byrne / Irish ✓\n",
      "100000 100% 0.4602 Kui / Chinese ✓\n"
     ]
    }
   ],
   "source": [
    "import math\n",
    "n_iters = 100000\n",
    "print_every = 5000\n",
    "plot_every = 1000\n",
    "current_loss = 0\n",
    "all_losses = []\n",
    "for iter in range(1, n_iters + 1):\n",
    "    category, line, category_tensor, line_tensor = randomTrainingExample()\n",
    "    output, loss = train(category_tensor, line_tensor)\n",
    "    current_loss += loss\n",
    "    if iter % print_every == 0:\n",
    "        guess, guess_i = categoryFromOutput(output)\n",
    "        correct = '✓' if guess == category else '✗ (%s)' % category\n",
    "        print('%d %d%% %.4f %s / %s %s' % (iter, iter / n_iters * 100, loss, line, guess, correct))\n",
    "    if iter % plot_every == 0:\n",
    "        all_losses.append(current_loss / plot_every)\n",
    "        current_loss = 0"
   ]
  },
  {
   "cell_type": "markdown",
   "id": "1c0e81fc",
   "metadata": {},
   "source": [
    "## 模型评估"
   ]
  },
  {
   "cell_type": "code",
   "execution_count": 16,
   "id": "61188d53",
   "metadata": {},
   "outputs": [
    {
     "data": {
      "text/plain": [
       "[<matplotlib.lines.Line2D at 0x2b84f4736a0>]"
      ]
     },
     "execution_count": 16,
     "metadata": {},
     "output_type": "execute_result"
    },
    {
     "data": {
      "image/png": "[encoded data removed]",
      "text/plain": [
       "<Figure size 640x480 with 1 Axes>"
      ]
     },
     "metadata": {},
     "output_type": "display_data"
    }
   ],
   "source": [
    "import matplotlib.pyplot as plt\n",
    "import matplotlib.ticker as ticker\n",
    "plt.figure()\n",
    "plt.plot(all_losses)"
   ]
  },
  {
   "cell_type": "code",
   "execution_count": 17,
   "id": "38d126c7",
   "metadata": {},
   "outputs": [],
   "source": [
    "# 在混淆矩阵中记录正确预测\n",
    "confusion = torch.zeros(n_categories, n_categories)\n",
    "n_confusion = 10000\n",
    "\n",
    "# 模型推理\n",
    "def evaluate(line_tensor):\n",
    "    hidden = rnn.initHidden()\n",
    "    for i in range(line_tensor.size()[0]):\n",
    "        output, hidden = rnn(line_tensor[i], hidden)\n",
    "    return output\n",
    "# 运行样本，并记录正确的预测\n",
    "for i in range(n_confusion):\n",
    "    category, line, category_tensor, line_tensor = randomTrainingExample()\n",
    "    output = evaluate(line_tensor)\n",
    "    guess, guess_i = categoryFromOutput(output)\n",
    "    category_i = all_categories.index(category)\n",
    "    confusion[category_i][guess_i] += 1\n",
    "\n",
    "for i in range(n_categories):\n",
    "    confusion[i] = confusion[i] / confusion[i].sum()"
   ]
  },
  {
   "cell_type": "code",
   "execution_count": 18,
   "id": "4f3c5136",
   "metadata": {},
   "outputs": [
    {
     "name": "stderr",
     "output_type": "stream",
     "text": [
      "C:\\Users\\82309\\AppData\\Local\\Temp\\ipykernel_14452\\3055755068.py:9: UserWarning: FixedFormatter should only be used together with FixedLocator\n",
      "  ax.set_xticklabels(all_categories, rotation=90)\n",
      "C:\\Users\\82309\\AppData\\Local\\Temp\\ipykernel_14452\\3055755068.py:10: UserWarning: FixedFormatter should only be used together with FixedLocator\n",
      "  ax.set_yticklabels(all_categories)\n"
     ]
    },
    {
     "data": {
      "image/png": "[encoded data removed]",
      "text/plain": [
       "<Figure size 640x480 with 2 Axes>"
      ]
     },
     "metadata": {},
     "output_type": "display_data"
    }
   ],
   "source": [
    "from matplotlib import ticker\n",
    "import numpy as np\n",
    "# 绘制图表\n",
    "fig = plt.figure()\n",
    "ax = fig.add_subplot(111)\n",
    "cax = ax.matshow(confusion.numpy())\n",
    "fig.colorbar(cax)\n",
    "# 设定轴\n",
    "ax.set_xticklabels(all_categories, rotation=90)\n",
    "ax.set_yticklabels(all_categories)\n",
    "# 在坐标处添加标签\n",
    "ax.xaxis.set_major_locator(ticker.MultipleLocator(1))\n",
    "ax.yaxis.set_major_locator(ticker.MultipleLocator(1))\n",
    "plt.show()"
   ]
  },
  {
   "cell_type": "code",
   "execution_count": 22,
   "id": "5e2e9edb",
   "metadata": {},
   "outputs": [
    {
     "name": "stdout",
     "output_type": "stream",
     "text": [
      "\n",
      "> Qian\n",
      "(-0.27) Chinese\n",
      "(-2.01) Vietnamese\n",
      "(-3.85) Irish\n"
     ]
    }
   ],
   "source": [
    "def predict(input_line, n_predictions=3):\n",
    "    print('\\n> %s' % input_line)\n",
    "    with torch.no_grad():\n",
    "        output = evaluate(lineToTensor(input_line))\n",
    "        topv, topi = output.topk(n_predictions, 1, True)\n",
    "        predictions = []\n",
    "        for i in range(n_predictions):\n",
    "            value = topv[0][i].item()\n",
    "            category_index = topi[0][i].item()\n",
    "            print('(%.2f) %s' % (value, all_categories[category_index]))\n",
    "            predictions.append([value, all_categories[category_index]])\n",
    "predict('Qian')"
   ]
  },
  {
   "cell_type": "code",
   "execution_count": null,
   "id": "c3ef00d5",
   "metadata": {},
   "outputs": [],
   "source": []
  }
 ],
 "metadata": {
  "kernelspec": {
   "display_name": "Python 3 (ipykernel)",
   "language": "python",
   "name": "python3"
  },
  "language_info": {
   "codemirror_mode": {
    "name": "ipython",
    "version": 3
   },
   "file_extension": ".py",
   "mimetype": "text/x-python",
   "name": "python",
   "nbconvert_exporter": "python",
   "pygments_lexer": "ipython3",
   "version": "3.9.13"
  }
 },
 "nbformat": 4,
 "nbformat_minor": 5
}
