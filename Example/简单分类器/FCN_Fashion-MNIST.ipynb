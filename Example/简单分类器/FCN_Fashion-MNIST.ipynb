{
 "cells": [
  {
   "cell_type": "code",
   "execution_count": 1,
   "id": "3e3901a2",
   "metadata": {},
   "outputs": [],
   "source": [
    "# 导入包\n",
    "import torch\n",
    "import torch.nn as nn\n",
    "import torch.nn.functional as F\n",
    "import torch.optim as optim\n",
    "from torchvision import transforms, datasets\n",
    "from torch.utils.data.dataloader import DataLoader"
   ]
  },
  {
   "cell_type": "code",
   "execution_count": 2,
   "id": "a90d9fc6",
   "metadata": {},
   "outputs": [],
   "source": [
    "# 构建 transform\n",
    "transform = transforms.Compose([transforms.ToTensor(), transforms.Normalize((0.5,),(0.5,))])"
   ]
  },
  {
   "cell_type": "code",
   "execution_count": 3,
   "id": "235447a8",
   "metadata": {},
   "outputs": [],
   "source": [
    "#下载/加载数据集\n",
    "trainset = datasets.FashionMNIST(root='./FashionMNIST', train=True, download=True, transform=transform)\n",
    "testset = datasets.FashionMNIST(root='./FashionMNIST', train=False, download=True, transform=transform)"
   ]
  },
  {
   "cell_type": "code",
   "execution_count": 4,
   "id": "56a4beb4",
   "metadata": {},
   "outputs": [],
   "source": [
    "BATCH_SIZE = 256\n",
    "train_loader = DataLoader(trainset, batch_size = BATCH_SIZE, shuffle = True)\n",
    "test_loader = DataLoader(testset, batch_size = BATCH_SIZE, shuffle = True)"
   ]
  },
  {
   "cell_type": "code",
   "execution_count": 5,
   "id": "24c1e0b5",
   "metadata": {},
   "outputs": [
    {
     "name": "stdout",
     "output_type": "stream",
     "text": [
      "NeuralNetwork(\n",
      "  (flatten): Flatten(start_dim=1, end_dim=-1)\n",
      "  (linear_relu_stack): Sequential(\n",
      "    (0): Linear(in_features=784, out_features=512, bias=True)\n",
      "    (1): ReLU()\n",
      "    (2): Linear(in_features=512, out_features=512, bias=True)\n",
      "    (3): ReLU()\n",
      "    (4): Linear(in_features=512, out_features=10, bias=True)\n",
      "  )\n",
      ")\n"
     ]
    }
   ],
   "source": [
    "class NeuralNetwork(nn.Module):  \n",
    "    def __init__(self):\n",
    "        super(NeuralNetwork, self).__init__()\n",
    "        # 默认将第0维保留下来，其余拍成一维\n",
    "        self.flatten = nn.Flatten()\n",
    "        self.linear_relu_stack = nn.Sequential(\n",
    "            nn.Linear(28*28, 512),\n",
    "            nn.ReLU(),\n",
    "            nn.Linear(512, 512),\n",
    "            nn.ReLU(),\n",
    "            nn.Linear(512, 10),)\n",
    "        \n",
    "    def forward(self, x):\n",
    "        x = self.flatten(x)\n",
    "        # x = x.view(-1,28*28)\n",
    "        logits = self.linear_relu_stack(x)\n",
    "        return logits\n",
    "FCN = NeuralNetwork()\n",
    "print(FCN)"
   ]
  },
  {
   "cell_type": "code",
   "execution_count": 6,
   "id": "7dff2cfa",
   "metadata": {},
   "outputs": [],
   "source": [
    "# 定义优化器和损失函数\n",
    "loss_function = nn.CrossEntropyLoss()\n",
    "learning_rate = 1e-3\n",
    "optimizer = torch.optim.Adam(FCN.parameters(), lr=learning_rate)"
   ]
  },
  {
   "cell_type": "code",
   "execution_count": 7,
   "id": "2e6125b6",
   "metadata": {},
   "outputs": [
    {
     "name": "stdout",
     "output_type": "stream",
     "text": [
      "Epoch :1 , Loss : 0.002\n",
      "Epoch :2 , Loss : 0.001\n",
      "Epoch :3 , Loss : 0.001\n",
      "Epoch :4 , Loss : 0.001\n",
      "Epoch :5 , Loss : 0.001\n",
      "Epoch :6 , Loss : 0.001\n",
      "Epoch :7 , Loss : 0.001\n",
      "Epoch :8 , Loss : 0.001\n",
      "Epoch :9 , Loss : 0.001\n",
      "Epoch :10 , Loss : 0.001\n"
     ]
    }
   ],
   "source": [
    "# 训练\n",
    "EPOCHS = 10\n",
    "for epoch in range(EPOCHS):\n",
    "    train_loss = 0.0\n",
    "    for i, (datas, labels) in enumerate(train_loader):\n",
    "        # torch.Size([256, 1, 28, 28])—>datas\n",
    "        # 梯度置零\n",
    "        optimizer.zero_grad()\n",
    "        # 训练\n",
    "        # torch.Size([256, 10])—>outputs\n",
    "        outputs = FCN(datas)\n",
    "        # 计算损失\n",
    "        loss = loss_function(outputs, labels)\n",
    "        # 反向传播\n",
    "        loss.backward()\n",
    "        # 参数更新\n",
    "        optimizer.step() \n",
    "        train_loss += loss.item()\n",
    "    print(\"Epoch :%d , Loss : %.3f\"%(epoch+1, train_loss/len(train_loader.dataset)))"
   ]
  },
  {
   "cell_type": "code",
   "execution_count": 8,
   "id": "06ebb944",
   "metadata": {},
   "outputs": [
    {
     "name": "stdout",
     "output_type": "stream",
     "text": [
      "10000\n",
      "Total Accuracy：88.400%\n"
     ]
    }
   ],
   "source": [
    "# 测试\n",
    "correct = 0\n",
    "total = 0\n",
    "with torch.no_grad():\n",
    "    for i , (datas, labels) in enumerate(test_loader):\n",
    "        outputs = FCN(datas)\n",
    "        #print(len(outputs))\n",
    "        _, predicted = torch.max(outputs.data, dim=1) # 第一个是值的张量，第二个是序号的张量\n",
    "        #print(predicted)\n",
    "        total += labels.size(0)\n",
    "        correct += (predicted == labels).sum()\n",
    "    print(total)\n",
    "    print(\"Total Accuracy：{:.3f}%\".format(correct / total * 100))"
   ]
  },
  {
   "cell_type": "markdown",
   "id": "9bd5ab96",
   "metadata": {},
   "source": [
    "# 补充"
   ]
  },
  {
   "cell_type": "markdown",
   "id": "304d1ba8",
   "metadata": {},
   "source": [
    "## 截取部分数据样本"
   ]
  },
  {
   "cell_type": "code",
   "execution_count": 9,
   "id": "8db7b4c5",
   "metadata": {},
   "outputs": [],
   "source": [
    "trainset = list(trainset)[:4000]\n",
    "testset = list(testset)[:1000]"
   ]
  },
  {
   "cell_type": "code",
   "execution_count": 10,
   "id": "a3962d3d",
   "metadata": {},
   "outputs": [
    {
     "name": "stdout",
     "output_type": "stream",
     "text": [
      "Counter({1: 440, 7: 413, 3: 409, 2: 404, 6: 400, 9: 395, 4: 395, 5: 391, 8: 380, 0: 373})\n",
      "Counter({4: 115, 2: 111, 0: 107, 1: 105, 6: 97, 9: 95, 7: 95, 8: 95, 3: 93, 5: 87})\n"
     ]
    }
   ],
   "source": [
    "from collections import Counter\n",
    "train_label_count = []\n",
    "test_label_count = []\n",
    "for i in range(len(trainset)):\n",
    "    train_label_count.append(trainset[i][1])\n",
    "print(Counter(train_label_count))\n",
    "\n",
    "for i in range(len(testset)):\n",
    "    test_label_count.append(testset[i][1])\n",
    "print(Counter(test_label_count))"
   ]
  },
  {
   "cell_type": "markdown",
   "id": "eff938f8",
   "metadata": {},
   "source": [
    "## 利用GPU训练"
   ]
  },
  {
   "cell_type": "code",
   "execution_count": null,
   "id": "37a25d0b",
   "metadata": {},
   "outputs": [],
   "source": [
    "device = 'cuda'\n",
    "# 创建模型\n",
    "net = FCN().to(device)"
   ]
  },
  {
   "cell_type": "code",
   "execution_count": null,
   "id": "fe07a380",
   "metadata": {},
   "outputs": [],
   "source": [
    "datas, labels = datas.to(device), labels.to(device)"
   ]
  }
 ],
 "metadata": {
  "kernelspec": {
   "display_name": "Python 3 (ipykernel)",
   "language": "python",
   "name": "python3"
  },
  "language_info": {
   "codemirror_mode": {
    "name": "ipython",
    "version": 3
   },
   "file_extension": ".py",
   "mimetype": "text/x-python",
   "name": "python",
   "nbconvert_exporter": "python",
   "pygments_lexer": "ipython3",
   "version": "3.10.5"
  }
 },
 "nbformat": 4,
 "nbformat_minor": 5
}
