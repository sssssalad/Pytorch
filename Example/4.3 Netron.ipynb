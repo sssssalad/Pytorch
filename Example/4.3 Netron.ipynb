{
 "cells": [
  {
   "attachments": {},
   "cell_type": "markdown",
   "id": "1a4abf52",
   "metadata": {},
   "source": [
    "https://github.com/lutzroeder/netron  \n",
    "    \n",
    "https://netron.app/"
   ]
  },
  {
   "cell_type": "code",
   "execution_count": null,
   "id": "6d621b1f",
   "metadata": {},
   "outputs": [],
   "source": [
    "import torch\n",
    "from torch import nn\n",
    "import netron\n",
    "import time"
   ]
  },
  {
   "cell_type": "code",
   "execution_count": null,
   "id": "43527c46",
   "metadata": {},
   "outputs": [],
   "source": [
    "model1 = nn.Sequential()\n",
    "model1.add_module('W0', nn.Linear(8, 16))\n",
    "model1.add_module('tanh', nn.Tanh())\n",
    "model1.add_module('W1', nn.Linear(16, 1))\n",
    "torch.save(model1, 'model1.pth')  # 保存模型\n",
    "netron.start('model1.pth')"
   ]
  },
  {
   "cell_type": "code",
   "execution_count": null,
   "id": "c1351bec",
   "metadata": {},
   "outputs": [],
   "source": [
    "time.sleep(10)"
   ]
  },
  {
   "cell_type": "code",
   "execution_count": null,
   "id": "ed334621",
   "metadata": {},
   "outputs": [],
   "source": [
    "model2 = nn.Sequential(\n",
    "         nn.Conv2d(1,32,5),\n",
    "         nn.ReLU(),\n",
    "         nn.Conv2d(32,64,5),\n",
    "         nn.ReLU(),\n",
    "         nn.Conv2d(64,128,5),\n",
    "         nn.Tanh()\n",
    "         )"
   ]
  },
  {
   "cell_type": "code",
   "execution_count": null,
   "id": "9d645c5f",
   "metadata": {},
   "outputs": [],
   "source": [
    "torch.save(model2, 'model2.pth')  # 保存模型\n",
    "netron.start('model2.pth')"
   ]
  },
  {
   "cell_type": "code",
   "execution_count": null,
   "id": "e6b3937a",
   "metadata": {},
   "outputs": [],
   "source": []
  }
 ],
 "metadata": {
  "kernelspec": {
   "display_name": "Python 3 (ipykernel)",
   "language": "python",
   "name": "python3"
  },
  "language_info": {
   "codemirror_mode": {
    "name": "ipython",
    "version": 3
   },
   "file_extension": ".py",
   "mimetype": "text/x-python",
   "name": "python",
   "nbconvert_exporter": "python",
   "pygments_lexer": "ipython3",
   "version": "3.10.5"
  }
 },
 "nbformat": 4,
 "nbformat_minor": 5
}
