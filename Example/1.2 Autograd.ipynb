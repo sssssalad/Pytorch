{
 "cells": [
  {
   "cell_type": "markdown",
   "id": "b61cfb4d",
   "metadata": {},
   "source": [
    "# Autograd"
   ]
  },
  {
   "cell_type": "code",
   "execution_count": 1,
   "id": "2500a988",
   "metadata": {},
   "outputs": [],
   "source": [
    "import torch\n",
    "import numpy as np\n",
    "import matplotlib.pyplot as plt\n",
    "%matplotlib inline"
   ]
  },
  {
   "cell_type": "markdown",
   "id": "a31a1b96",
   "metadata": {},
   "source": [
    "## 课堂练习1"
   ]
  },
  {
   "cell_type": "markdown",
   "id": "5898d652",
   "metadata": {},
   "source": [
    "首先，我们创建变量$\\mathbf{x}$并为其分配一个初始值。"
   ]
  },
  {
   "cell_type": "code",
   "execution_count": 2,
   "id": "160b5e1b",
   "metadata": {},
   "outputs": [
    {
     "data": {
      "text/plain": [
       "tensor([0., 1., 2., 3.])"
      ]
     },
     "execution_count": 2,
     "metadata": {},
     "output_type": "execute_result"
    }
   ],
   "source": [
    "x = torch.arange(4.0)\n",
    "x"
   ]
  },
  {
   "cell_type": "markdown",
   "id": "27b35e3c",
   "metadata": {},
   "source": [
    "在我们计算$y$关于$\\mathbf{x}$的梯度之前，需要一个地方来存储梯度。重要的是，我们不会在每次对一个参数求导时都分配新的内存。因为我们经常会成千上万次地更新相同的参数，每次都分配新的内存可能很快就会将内存耗尽。"
   ]
  },
  {
   "cell_type": "code",
   "execution_count": 3,
   "id": "cd5c8cfa",
   "metadata": {},
   "outputs": [
    {
     "name": "stdout",
     "output_type": "stream",
     "text": [
      "None\n"
     ]
    }
   ],
   "source": [
    "x.requires_grad_(True) # 等价于x=torch.arange(4.0,requires_grad=True) \n",
    "print(x.grad) # 默认值是None"
   ]
  },
  {
   "cell_type": "markdown",
   "id": "c26f94d2",
   "metadata": {},
   "source": [
    "现在计算$y$"
   ]
  },
  {
   "cell_type": "code",
   "execution_count": 4,
   "id": "14a023a9",
   "metadata": {},
   "outputs": [
    {
     "name": "stdout",
     "output_type": "stream",
     "text": [
      "tensor(28., grad_fn=<MulBackward0>)\n"
     ]
    }
   ],
   "source": [
    "y = 2 * torch.dot(x, x)\n",
    "print(y)"
   ]
  },
  {
   "cell_type": "markdown",
   "id": "05326452",
   "metadata": {},
   "source": [
    "$\\mathbf{x}$是一个长度为4的向量，计算$\\mathbf{x}$和$\\mathbf{x}$的点积，得到了我们赋值给$y$的标量输出。接下来，通过调用反向传播函数来自动计算$y$关于$\\mathbf{x}$每个分量的梯度，并打印这些梯度。"
   ]
  },
  {
   "cell_type": "code",
   "execution_count": 5,
   "id": "e63b1b18",
   "metadata": {},
   "outputs": [
    {
     "data": {
      "text/plain": [
       "tensor([ 0.,  4.,  8., 12.])"
      ]
     },
     "execution_count": 5,
     "metadata": {},
     "output_type": "execute_result"
    }
   ],
   "source": [
    "y.backward() \n",
    "x.grad"
   ]
  },
  {
   "cell_type": "markdown",
   "id": "685a2199",
   "metadata": {},
   "source": [
    "函数$y=2\\mathbf{x}^T\\mathbf{x}$关于$\\mathbf{x}$的梯度应为$4\\mathbf{x}$。让我们快速验证这个梯度是否计算正确。"
   ]
  },
  {
   "cell_type": "code",
   "execution_count": 6,
   "id": "b5c45cfb",
   "metadata": {},
   "outputs": [
    {
     "data": {
      "text/plain": [
       "tensor([True, True, True, True])"
      ]
     },
     "execution_count": 6,
     "metadata": {},
     "output_type": "execute_result"
    }
   ],
   "source": [
    "x.grad == 4 * x"
   ]
  },
  {
   "cell_type": "code",
   "execution_count": 7,
   "id": "1ca84547",
   "metadata": {},
   "outputs": [
    {
     "data": {
      "text/plain": [
       "tensor([1., 1., 1., 1.])"
      ]
     },
     "execution_count": 7,
     "metadata": {},
     "output_type": "execute_result"
    }
   ],
   "source": [
    "# 在默认情况下，PyTorch会累积梯度，我们需要清除之前的值\n",
    "x.grad.zero_()\n",
    "y = x.sum()\n",
    "y.backward()\n",
    "x.grad"
   ]
  },
  {
   "cell_type": "markdown",
   "id": "76a8a8e3",
   "metadata": {},
   "source": [
    "## 课堂练习2"
   ]
  },
  {
   "cell_type": "code",
   "execution_count": 8,
   "id": "cc7e122d",
   "metadata": {},
   "outputs": [],
   "source": [
    "# Only Tensors of floating point and complex dtype can require gradients\n",
    "x = torch.tensor([1.0, 2.0])\n",
    "w = torch.tensor([3.0, 4.0], requires_grad=True)\n",
    "y = torch.tensor(5.0)"
   ]
  },
  {
   "cell_type": "code",
   "execution_count": 9,
   "id": "2e74f423",
   "metadata": {},
   "outputs": [
    {
     "data": {
      "text/plain": [
       "tensor(36., grad_fn=<PowBackward0>)"
      ]
     },
     "execution_count": 9,
     "metadata": {},
     "output_type": "execute_result"
    }
   ],
   "source": [
    "z = (torch.dot(x,w)-y).pow(2)\n",
    "z"
   ]
  },
  {
   "cell_type": "code",
   "execution_count": 10,
   "id": "efd07fb7",
   "metadata": {},
   "outputs": [
    {
     "data": {
      "text/plain": [
       "tensor([12., 24.])"
      ]
     },
     "execution_count": 10,
     "metadata": {},
     "output_type": "execute_result"
    }
   ],
   "source": [
    "# 使用自动求导\n",
    "z.backward()\n",
    "w.grad"
   ]
  },
  {
   "cell_type": "code",
   "execution_count": 11,
   "id": "1c5dd8d4",
   "metadata": {},
   "outputs": [
    {
     "data": {
      "text/plain": [
       "tensor([12., 24.], grad_fn=<MulBackward0>)"
      ]
     },
     "execution_count": 11,
     "metadata": {},
     "output_type": "execute_result"
    }
   ],
   "source": [
    "2*(torch.dot(x,w)-y)*x"
   ]
  },
  {
   "cell_type": "markdown",
   "id": "0f105414",
   "metadata": {},
   "source": [
    "## 课堂练习3"
   ]
  },
  {
   "cell_type": "code",
   "execution_count": 12,
   "id": "9cec61a4",
   "metadata": {},
   "outputs": [],
   "source": [
    "x = torch.linspace(0, 10, 100, requires_grad=True)"
   ]
  },
  {
   "cell_type": "code",
   "execution_count": 13,
   "id": "a7ed493f",
   "metadata": {},
   "outputs": [],
   "source": [
    "#backward函数只能对标量的output求梯度\n",
    "#y = torch.sin(x)\n",
    "#y.backward()"
   ]
  },
  {
   "cell_type": "code",
   "execution_count": 14,
   "id": "bb17c052",
   "metadata": {},
   "outputs": [],
   "source": [
    "y = torch.sin(x)\n",
    "z = y.sum()\n",
    "z.backward()"
   ]
  },
  {
   "cell_type": "code",
   "execution_count": 15,
   "id": "2a4d8b5f",
   "metadata": {},
   "outputs": [
    {
     "data": {
      "image/png": "[encoded data removed]",
      "text/plain": [
       "<Figure size 432x288 with 1 Axes>"
      ]
     },
     "metadata": {
      "needs_background": "light"
     },
     "output_type": "display_data"
    }
   ],
   "source": [
    "x.requires_grad_(False)\n",
    "#plt.figure(dpi=300,figsize=(5,3))\n",
    "plt.plot(x,torch.sin(x),label=\"sin(x)\")\n",
    "plt.plot(x,x.grad,label=\"gradient of sin(x)\")\n",
    "plt.legend()\n",
    "plt.show()"
   ]
  },
  {
   "cell_type": "code",
   "execution_count": 16,
   "id": "f918ad41",
   "metadata": {},
   "outputs": [],
   "source": [
    "#y = torch.sin(x)\n",
    "#y.backward(torch.ones_like(x))\n",
    "#x.grad"
   ]
  }
 ],
 "metadata": {
  "kernelspec": {
   "display_name": "Python 3 (ipykernel)",
   "language": "python",
   "name": "python3"
  },
  "language_info": {
   "codemirror_mode": {
    "name": "ipython",
    "version": 3
   },
   "file_extension": ".py",
   "mimetype": "text/x-python",
   "name": "python",
   "nbconvert_exporter": "python",
   "pygments_lexer": "ipython3",
   "version": "3.10.5"
  }
 },
 "nbformat": 4,
 "nbformat_minor": 5
}
