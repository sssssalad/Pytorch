{
 "cells": [
  {
   "cell_type": "markdown",
   "id": "a6c149b1",
   "metadata": {},
   "source": [
    "# 通过LSTM实现图片分类"
   ]
  },
  {
   "cell_type": "markdown",
   "id": "bbe1c095",
   "metadata": {},
   "source": [
    "一般来说卷积神经网络是处理图片的能手，但这并不意味着循环神经网络不具备处理图片的能力，我们依然可以使用循环神经网络完成图片的分类任务。"
   ]
  },
  {
   "cell_type": "code",
   "execution_count": 1,
   "id": "ef389f8f",
   "metadata": {},
   "outputs": [],
   "source": [
    "import torch\n",
    "from torch import nn\n",
    "import numpy as np\n",
    "from torchvision.datasets import mnist\n",
    "from torch.utils.data import DataLoader\n",
    "from torchvision import transforms\n",
    "from datetime import datetime"
   ]
  },
  {
   "cell_type": "code",
   "execution_count": 2,
   "id": "571b9aa4",
   "metadata": {},
   "outputs": [],
   "source": [
    "def get_acc(output, label):\n",
    "    total = output.shape[0]\n",
    "    _, pred_label = output.max(1)#求每行的最大就是最有可能的类别\n",
    "    num_correct = (pred_label == label).sum().float()\n",
    "    return num_correct / total\n",
    "# 定义数据的变换\n",
    "data_tf = transforms.Compose([transforms.ToTensor(),\n",
    "                              transforms.Normalize([0.5],[0.5])\n",
    "                             ])"
   ]
  },
  {
   "cell_type": "code",
   "execution_count": 3,
   "id": "8f9d475f",
   "metadata": {},
   "outputs": [],
   "source": [
    "train_set = mnist.MNIST('./data',train=True,transform=data_tf,download=True)\n",
    "test_set = mnist.MNIST('./data',train=False,transform=data_tf,download=True)\n",
    "train_data = DataLoader(train_set,batch_size=128,shuffle=True)\n",
    "test_data = DataLoader(test_set,batch_size=128,shuffle=True)"
   ]
  },
  {
   "cell_type": "markdown",
   "id": "2693bc04",
   "metadata": {},
   "source": [
    "手写字体识别的数据集的图片都是单通道的，图片大小是28*28。我们知道循环神经网络是处理序列数据的，所以我们可以将图片看成是序列数据，`将每张图片看作是长为28的序列`，`序列中的每个元素的特征维度是28`，这样就将图片变成了一个序列。"
   ]
  },
  {
   "cell_type": "code",
   "execution_count": 4,
   "id": "d74f66dd",
   "metadata": {},
   "outputs": [],
   "source": [
    "class LSTM_MNIST(nn.Module):\n",
    "    def __init__(self,in_dim,hidden_dim,n_layer,n_class):\n",
    "        super(LSTM_MNIST,self).__init__()\n",
    "        self.n_layer=n_layer\n",
    "        self.hidden_dim=hidden_dim\n",
    "        self.lstm=nn.LSTM(in_dim,hidden_dim,n_layer,batch_first=True)\n",
    "        self.classifier=nn.Linear(hidden_dim,n_class)\n",
    "    def forward(self,x):\n",
    "        out,_ =self.lstm(x)\n",
    "        out =out[:,-1,:] # 取最后一个时间步\n",
    "        out =self.classifier(out)\n",
    "        return out"
   ]
  },
  {
   "cell_type": "code",
   "execution_count": 5,
   "id": "3e006e07",
   "metadata": {},
   "outputs": [],
   "source": [
    "net = LSTM_MNIST(28,50,2,10)\n",
    "criterion = nn.CrossEntropyLoss()# 定义损失函数\n",
    "optimizer = torch.optim.SGD(net.parameters(),1e-1)\n",
    "prev_time = datetime.now()"
   ]
  },
  {
   "cell_type": "code",
   "execution_count": 6,
   "id": "3ac556da",
   "metadata": {},
   "outputs": [
    {
     "name": "stdout",
     "output_type": "stream",
     "text": [
      "LSTM_MNIST(\n",
      "  (lstm): LSTM(28, 50, num_layers=2, batch_first=True)\n",
      "  (classifier): Linear(in_features=50, out_features=10, bias=True)\n",
      ")\n"
     ]
    }
   ],
   "source": [
    "print(net)"
   ]
  },
  {
   "cell_type": "code",
   "execution_count": 7,
   "id": "b31bf3b2",
   "metadata": {},
   "outputs": [
    {
     "name": "stdout",
     "output_type": "stream",
     "text": [
      "Epoch 0. Train Loss 2.216499,Train Acc:0.178560,Valid Loss: 2.083235,Valid Acc: 0.254648 ,Time 00:00:34\n",
      "Epoch 1. Train Loss 0.997705,Train Acc:0.663385,Valid Loss: 0.449262,Valid Acc: 0.865704 ,Time 00:00:49\n",
      "Epoch 2. Train Loss 0.345102,Train Acc:0.894817,Valid Loss: 0.279610,Valid Acc: 0.909810 ,Time 00:00:47\n",
      "Epoch 3. Train Loss 0.200307,Train Acc:0.940698,Valid Loss: 0.199526,Valid Acc: 0.936907 ,Time 00:00:48\n",
      "Epoch 4. Train Loss 0.143321,Train Acc:0.957673,Valid Loss: 0.125389,Valid Acc: 0.965289 ,Time 00:00:53\n",
      "Epoch 5. Train Loss 0.116572,Train Acc:0.965585,Valid Loss: 0.096243,Valid Acc: 0.974288 ,Time 00:00:54\n",
      "Epoch 6. Train Loss 0.098319,Train Acc:0.970144,Valid Loss: 0.114585,Valid Acc: 0.966278 ,Time 00:00:54\n",
      "Epoch 7. Train Loss 0.083342,Train Acc:0.975085,Valid Loss: 0.087382,Valid Acc: 0.974090 ,Time 00:00:54\n",
      "Epoch 8. Train Loss 0.073541,Train Acc:0.977995,Valid Loss: 0.086054,Valid Acc: 0.974782 ,Time 00:00:54\n",
      "Epoch 9. Train Loss 0.066122,Train Acc:0.980072,Valid Loss: 0.072699,Valid Acc: 0.979727 ,Time 00:00:54\n"
     ]
    }
   ],
   "source": [
    "for epoch in range(10):\n",
    "    train_loss = 0\n",
    "    train_acc = 0\n",
    "    net = net.train()\n",
    "    for im,label in train_data:\n",
    "        im = im.squeeze(1)\n",
    "        output = net(im)\n",
    "        loss = criterion(output ,label)\n",
    "        optimizer.zero_grad()\n",
    "        loss.backward()\n",
    "        optimizer.step()\n",
    "        train_loss += loss.data.float()\n",
    "        train_acc += get_acc(output,label)\n",
    "    cur_time = datetime.now()\n",
    "    h,remainder = divmod((cur_time-prev_time).seconds,3600)\n",
    "    m,s = divmod(remainder,60)\n",
    "    time_str = \"Time %02d:%02d:%02d\"%(h,m,s)\n",
    "    # 验证\n",
    "    valid_loss=0\n",
    "    valid_acc=0\n",
    "    net=net.eval()\n",
    "    for im,label in test_data:\n",
    "        im = im.squeeze(1)\n",
    "        output =net(im)\n",
    "        loss= criterion(output,label)\n",
    "        valid_loss +=loss.data.float()\n",
    "        valid_acc +=get_acc(output,label)\n",
    "    epoch_str=(\"Epoch %d. Train Loss %f,Train Acc:%f,Valid Loss: %f,Valid Acc: %f ,\"\n",
    "                %(epoch,train_loss/len(train_data),\n",
    "                train_acc /len(train_data),\n",
    "                valid_loss/len(test_data),\n",
    "                valid_acc /len(test_data)))\n",
    "    prev_time=cur_time\n",
    "    print(epoch_str+time_str)"
   ]
  },
  {
   "cell_type": "code",
   "execution_count": null,
   "id": "52384b1c",
   "metadata": {},
   "outputs": [],
   "source": []
  }
 ],
 "metadata": {
  "kernelspec": {
   "display_name": "Python 3 (ipykernel)",
   "language": "python",
   "name": "python3"
  },
  "language_info": {
   "codemirror_mode": {
    "name": "ipython",
    "version": 3
   },
   "file_extension": ".py",
   "mimetype": "text/x-python",
   "name": "python",
   "nbconvert_exporter": "python",
   "pygments_lexer": "ipython3",
   "version": "3.9.13"
  }
 },
 "nbformat": 4,
 "nbformat_minor": 5
}
