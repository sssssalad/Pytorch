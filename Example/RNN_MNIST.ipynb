{
 "cells": [
  {
   "cell_type": "markdown",
   "id": "a6c149b1",
   "metadata": {},
   "source": [
    "# 通过RNN实现图片分类"
   ]
  },
  {
   "cell_type": "markdown",
   "id": "bbe1c095",
   "metadata": {},
   "source": [
    "一般来说卷积神经网络是处理图片的能手，但这并不意味着循环神经网络不具备处理图片的能力，我们依然可以使用循环神经网络完成图片的分类任务。"
   ]
  },
  {
   "cell_type": "code",
   "execution_count": 1,
   "id": "ef389f8f",
   "metadata": {},
   "outputs": [],
   "source": [
    "import torch\n",
    "from torch import nn\n",
    "import numpy as np\n",
    "from torchvision.datasets import mnist\n",
    "from torch.utils.data import DataLoader\n",
    "from torchvision import transforms\n",
    "from datetime import datetime"
   ]
  },
  {
   "cell_type": "code",
   "execution_count": 2,
   "id": "571b9aa4",
   "metadata": {},
   "outputs": [],
   "source": [
    "def get_acc(output, label):\n",
    "    total = output.shape[0]\n",
    "    _, pred_label = output.max(1)#求每行的最大就是最有可能的类别\n",
    "    num_correct = (pred_label == label).sum().float()\n",
    "    return num_correct / total\n",
    "\n",
    "# 定义数据的变换\n",
    "data_tf = transforms.Compose([transforms.ToTensor(),\n",
    "                              transforms.Normalize([0.5],[0.5])\n",
    "                             ])"
   ]
  },
  {
   "cell_type": "code",
   "execution_count": 3,
   "id": "8f9d475f",
   "metadata": {},
   "outputs": [],
   "source": [
    "train_set = mnist.MNIST('./data',train=True,transform=data_tf,download=True)\n",
    "test_set = mnist.MNIST('./data',train=False,transform=data_tf,download=True)\n",
    "train_data = DataLoader(train_set,batch_size=128,shuffle=True)\n",
    "test_data = DataLoader(test_set,batch_size=128,shuffle=True)"
   ]
  },
  {
   "cell_type": "markdown",
   "id": "2693bc04",
   "metadata": {},
   "source": [
    "手写字体识别的数据集的图片都是单通道的，图片大小是28*28。我们知道循环神经网络是处理序列数据的，所以我们可以将图片看成是序列数据，`将每张图片看作是长为28的序列`，`序列中的每个元素的特征维度是28`，这样就将图片变成了一个序列。"
   ]
  },
  {
   "cell_type": "code",
   "execution_count": 4,
   "id": "d74f66dd",
   "metadata": {},
   "outputs": [],
   "source": [
    "class RNN_MNIST(nn.Module):\n",
    "    def __init__(self,input_size,hidden_size,num_layers,num_class):\n",
    "        super(RNN_MNIST,self).__init__()\n",
    "        self.rnn=nn.RNN(input_size,hidden_size,num_layers,batch_first=True)\n",
    "        self.classifier=nn.Linear(hidden_size,num_class)\n",
    "    def forward(self,x):\n",
    "        out,_ =self.rnn(x)\n",
    "        out =out[:,-1,:] # 取最后一个时间步 (batch_size, seq_length, hidden_size)\n",
    "        out =self.classifier(out)\n",
    "        return out"
   ]
  },
  {
   "cell_type": "code",
   "execution_count": 5,
   "id": "3e006e07",
   "metadata": {},
   "outputs": [],
   "source": [
    "net = RNN_MNIST(28,50,2,10)\n",
    "criterion = nn.CrossEntropyLoss()# 定义损失函数\n",
    "optimizer = torch.optim.SGD(net.parameters(),0.02)\n",
    "prev_time = datetime.now()"
   ]
  },
  {
   "cell_type": "code",
   "execution_count": 6,
   "id": "3ac556da",
   "metadata": {},
   "outputs": [
    {
     "name": "stdout",
     "output_type": "stream",
     "text": [
      "RNN_MNIST(\n",
      "  (rnn): RNN(28, 50, num_layers=2, batch_first=True)\n",
      "  (classifier): Linear(in_features=50, out_features=10, bias=True)\n",
      ")\n"
     ]
    }
   ],
   "source": [
    "print(net)"
   ]
  },
  {
   "cell_type": "code",
   "execution_count": 7,
   "id": "b31bf3b2",
   "metadata": {},
   "outputs": [
    {
     "name": "stdout",
     "output_type": "stream",
     "text": [
      "Epoch 0. Train Loss 2.045774,Train Acc:0.264659,Valid Loss: 1.595222,Valid Acc: 0.422567 ,Time 00:00:11\n",
      "Epoch 1. Train Loss 1.269390,Train Acc:0.557508,Valid Loss: 1.091728,Valid Acc: 0.624209 ,Time 00:00:13\n",
      "Epoch 2. Train Loss 1.007069,Train Acc:0.647699,Valid Loss: 0.851373,Valid Acc: 0.708861 ,Time 00:00:13\n",
      "Epoch 3. Train Loss 0.763946,Train Acc:0.737212,Valid Loss: 0.677069,Valid Acc: 0.763548 ,Time 00:00:13\n",
      "Epoch 4. Train Loss 0.585946,Train Acc:0.806997,Valid Loss: 0.480679,Valid Acc: 0.842662 ,Time 00:00:13\n",
      "Epoch 5. Train Loss 0.468323,Train Acc:0.852073,Valid Loss: 0.405420,Valid Acc: 0.869858 ,Time 00:00:12\n",
      "Epoch 6. Train Loss 0.374250,Train Acc:0.890009,Valid Loss: 0.327288,Valid Acc: 0.903778 ,Time 00:00:13\n",
      "Epoch 7. Train Loss 0.314906,Train Acc:0.911514,Valid Loss: 0.286701,Valid Acc: 0.920293 ,Time 00:00:13\n",
      "Epoch 8. Train Loss 0.299051,Train Acc:0.915162,Valid Loss: 0.245879,Valid Acc: 0.933742 ,Time 00:00:13\n",
      "Epoch 9. Train Loss 0.257961,Train Acc:0.927566,Valid Loss: 0.240712,Valid Acc: 0.936709 ,Time 00:00:13\n"
     ]
    }
   ],
   "source": [
    "for epoch in range(10):\n",
    "    train_loss = 0\n",
    "    train_acc = 0\n",
    "    net = net.train()\n",
    "    for im,label in train_data:# im,label为一批数据，也就是64个样本\n",
    "        # 这里的squeeze的执行效果是什么？（提问）\n",
    "        im = im.squeeze(1)\n",
    "        output = net(im)\n",
    "        loss = criterion(output ,label)\n",
    "        # 反向传播\n",
    "        optimizer.zero_grad()\n",
    "        loss.backward()\n",
    "        optimizer.step()\n",
    "        train_loss += loss.data.float()\n",
    "        train_acc += get_acc(output,label)\n",
    "    cur_time = datetime.now()\n",
    "    h,remainder = divmod((cur_time-prev_time).seconds,3600)\n",
    "    m,s = divmod(remainder,60)\n",
    "    time_str = \"Time %02d:%02d:%02d\"%(h,m,s)\n",
    "    # 验证\n",
    "    valid_loss=0\n",
    "    valid_acc=0\n",
    "    net =net.eval()\n",
    "    for im,label in test_data:\n",
    "        im = im.squeeze(1)\n",
    "        output =net(im)\n",
    "        loss= criterion(output,label)\n",
    "        valid_loss +=loss.data.float()\n",
    "        valid_acc +=get_acc(output,label)\n",
    "    epoch_str=(\"Epoch %d. Train Loss %f,Train Acc:%f,Valid Loss: %f,Valid Acc: %f ,\"\n",
    "                %(epoch,train_loss/len(train_data),\n",
    "                train_acc /len(train_data),\n",
    "                valid_loss/len(test_data),\n",
    "                valid_acc /len(test_data)))\n",
    "    prev_time=cur_time\n",
    "    print(epoch_str+time_str)"
   ]
  },
  {
   "cell_type": "code",
   "execution_count": null,
   "id": "52384b1c",
   "metadata": {},
   "outputs": [],
   "source": []
  }
 ],
 "metadata": {
  "kernelspec": {
   "display_name": "Python 3 (ipykernel)",
   "language": "python",
   "name": "python3"
  },
  "language_info": {
   "codemirror_mode": {
    "name": "ipython",
    "version": 3
   },
   "file_extension": ".py",
   "mimetype": "text/x-python",
   "name": "python",
   "nbconvert_exporter": "python",
   "pygments_lexer": "ipython3",
   "version": "3.9.13"
  }
 },
 "nbformat": 4,
 "nbformat_minor": 5
}
